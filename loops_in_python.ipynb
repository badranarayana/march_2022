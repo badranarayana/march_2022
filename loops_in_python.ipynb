{
 "cells": [
  {
   "cell_type": "code",
   "execution_count": null,
   "id": "a25d5626-f3e6-4f94-87e3-34139ab71c1b",
   "metadata": {},
   "outputs": [],
   "source": [
    "# what is use of loop?\n",
    "# repeatdly executing same for every new value\n",
    "\n",
    "# Note: in python there are only two loops\n",
    "# 1) for\n",
    "# 2) while\n",
    "# 3) nested loops(nested for or nested while)"
   ]
  },
  {
   "cell_type": "code",
   "execution_count": 2,
   "id": "2c10d468-d9db-4509-9a7e-8453dd22880a",
   "metadata": {},
   "outputs": [
    {
     "name": "stdout",
     "output_type": "stream",
     "text": [
      "2\n",
      "4\n",
      "6\n",
      "8\n"
     ]
    }
   ],
   "source": [
    "data = [1, 2, 3, 4]\n",
    "\n",
    "# mul every value in list with 2\n",
    "\n",
    "# first val\n",
    "print(data[0] * 2) \n",
    "print(data[1] * 2)\n",
    "print(data[2] * 2)\n",
    "print(data[3] * 2)\n"
   ]
  },
  {
   "cell_type": "code",
   "execution_count": 12,
   "id": "58de90fc-0d0a-4e5a-94ac-d86b387471ea",
   "metadata": {},
   "outputs": [
    {
     "name": "stdout",
     "output_type": "stream",
     "text": [
      "2\n",
      "4\n",
      "OUTSIDE\n"
     ]
    }
   ],
   "source": [
    "data = [10, 2, 3, 4, 5, 6, 7]\n",
    "\n",
    "\"\"\"\n",
    "for <var_name> in iterable/sequence object:\n",
    "    <block of statements>\n",
    "    ---\n",
    "    ---\n",
    "    ---\n",
    "    ---\n",
    "---\n",
    "note: iterables, list, tuple, string, generator.\n",
    "\"\"\"\n",
    "\n",
    "# Example\n",
    "data = [1,2]\n",
    "for num in data: # num = 5\n",
    "    print(num * 2) # 10\n",
    "\n",
    "print(\"OUTSIDE\")\n",
    "\n"
   ]
  },
  {
   "cell_type": "code",
   "execution_count": 15,
   "id": "5eba653d-6a7e-4c44-8a5b-adb8cad7c558",
   "metadata": {},
   "outputs": [
    {
     "name": "stdout",
     "output_type": "stream",
     "text": [
      "2\n",
      "4\n",
      "6\n",
      "8\n",
      "10\n",
      "12\n"
     ]
    }
   ],
   "source": [
    "# write a program to print all even numbers in given list?\n",
    "data = [1, 2, 3, 4, 5, 6, 7, 8, 9, 10, 12, 13, 35]\n",
    "\n",
    "#even_list = []\n",
    "\n",
    "for num in data: # num = 4\n",
    "    if num % 2 == 0: # True\n",
    "        print(num)\n",
    "\n",
    "#print(even_list)\n"
   ]
  },
  {
   "cell_type": "code",
   "execution_count": 24,
   "id": "201f8c0d-82a9-4cdf-9b09-b73ded1e444b",
   "metadata": {},
   "outputs": [
    {
     "name": "stdout",
     "output_type": "stream",
     "text": [
      "['akhila', 'ashok']\n"
     ]
    }
   ],
   "source": [
    "# write a program to filter whose name starts with 'a'\n",
    "\n",
    "names = ['akhila', 'mounika', 'ramesh', 'ashok', 'badra']\n",
    "\n",
    "filter_val = 'a'\n",
    "\n",
    "# output = ['akhila', 'ashok' ]\n",
    "out = []\n",
    "\n",
    "for name in names:\n",
    "    char = name[0]\n",
    "    if char == filter_val: # 'm'\n",
    "        out.append(name)\n",
    "\n",
    "print(out)\n",
    "\n"
   ]
  },
  {
   "cell_type": "code",
   "execution_count": 31,
   "id": "7218b8bf-d3eb-41e1-95c3-5984c3bc99d2",
   "metadata": {},
   "outputs": [
    {
     "name": "stdout",
     "output_type": "stream",
     "text": [
      "Actual Val 3\n",
      "Divid 1.5\n",
      "exp 9\n",
      "floor 1\n",
      "-- ****** --\n",
      "Actual Val 5\n",
      "Divid 2.5\n",
      "exp 25\n",
      "floor 2\n",
      "-- ****** --\n",
      "Actual Val 6\n",
      "Divid 3.0\n",
      "exp 36\n",
      "floor 3\n",
      "-- ****** --\n",
      "Actual Val 7\n",
      "Divid 3.5\n",
      "exp 49\n",
      "floor 3\n",
      "-- ****** --\n",
      "Actual Val 8\n",
      "Divid 4.0\n",
      "exp 64\n",
      "floor 4\n",
      "-- ****** --\n",
      "Actual Val 9\n",
      "Divid 4.5\n",
      "exp 81\n",
      "floor 4\n",
      "-- ****** --\n",
      "Actual Val 9\n",
      "Divid 4.5\n",
      "exp 81\n",
      "floor 4\n",
      "-- ****** --\n"
     ]
    }
   ],
   "source": [
    "# write a porgam to divid evert list item with 2 and print the output\n",
    "\n",
    "data = [3, 5, 6, 7, 8, 9, 9]\n",
    "for val in data:\n",
    "    print(\"Actual Val\", val)\n",
    "    print(\"Divid\", val/2)\n",
    "    print(\"exp\", val**2)\n",
    "    print(\"floor\", val//2)\n",
    "    print(\"-- ****** --\")\n"
   ]
  },
  {
   "cell_type": "code",
   "execution_count": 32,
   "id": "9947e79a-7f6d-4174-85df-709f2c06b877",
   "metadata": {},
   "outputs": [],
   "source": [
    "# iterable objects : list, tuple, string"
   ]
  },
  {
   "cell_type": "code",
   "execution_count": 33,
   "id": "59520301-88ff-4d74-9834-03c873675038",
   "metadata": {},
   "outputs": [
    {
     "name": "stdout",
     "output_type": "stream",
     "text": [
      "1\n",
      "2\n",
      "3\n",
      "4\n",
      "4\n",
      "5\n",
      "5\n",
      "5\n",
      "5\n"
     ]
    }
   ],
   "source": [
    "# tuple\n",
    "data = (1,2,3,4,4,5,5,5,5)\n",
    "\n",
    "for val in data:\n",
    "    print(val)\n",
    "    "
   ]
  },
  {
   "cell_type": "code",
   "execution_count": 39,
   "id": "2ca497ea-9001-4b26-823a-ee8d8053c76f",
   "metadata": {},
   "outputs": [
    {
     "name": "stdout",
     "output_type": "stream",
     "text": [
      "h\n",
      "y\n",
      "d\n",
      "e\n",
      "r\n",
      "a\n",
      "b\n",
      "a\n",
      "d\n"
     ]
    }
   ],
   "source": [
    "# lets iterate over the string, convert to upper and print\n",
    "\n",
    "location = \"Hyderabad\"\n",
    "for char in location:\n",
    "    print(char.lower())"
   ]
  },
  {
   "cell_type": "code",
   "execution_count": 52,
   "id": "8450caf6-6002-4795-8779-5edec44b3162",
   "metadata": {},
   "outputs": [
    {
     "name": "stdout",
     "output_type": "stream",
     "text": [
      "\n",
      "\n",
      "\n",
      "\n",
      "\n",
      "\n",
      "\n",
      "\n",
      "\n",
      "\n",
      "\n",
      "\n",
      "\n",
      "\n",
      "\n",
      "\n",
      "\n",
      "\n",
      "\n",
      "\n",
      "\n",
      "\n",
      "\n",
      "\n",
      "\n",
      "\n",
      "\n",
      "\n",
      "\n",
      "\n",
      "\n",
      "\n",
      "\n",
      "\n",
      "\n",
      "\n",
      "\n",
      "\n",
      "\n",
      "\n",
      "\n",
      "\n",
      "\n",
      "\n",
      "\n",
      "\n",
      "\n",
      "\n"
     ]
    }
   ],
   "source": [
    "# range() --> range is bult-in function which generate sequence of values \n",
    "# range --> start with zero and endwith n - 1\n",
    "for i in range(-50, -2):\n",
    "    print(i)"
   ]
  },
  {
   "cell_type": "code",
   "execution_count": 71,
   "id": "e9d523ea-e7a9-4512-b63d-889d2c066c71",
   "metadata": {},
   "outputs": [
    {
     "name": "stdout",
     "output_type": "stream",
     "text": [
      "12\n",
      "288\n",
      "3\n",
      "4555\n",
      "5\n",
      "6\n",
      "88\n",
      "55\n",
      "66\n",
      "77\n"
     ]
    }
   ],
   "source": [
    "# write a program to print list data by using index position\n",
    "data = [12,288,3,4555,5,6,88,55,66,77]\n",
    "#data[0]\n",
    "#data[1]\n",
    "for i in range(len(data)): # [0,1,2,3,4,5,6]\n",
    "    val = data[i] # what i is index postion\n",
    "    print(val)\n"
   ]
  },
  {
   "cell_type": "code",
   "execution_count": 77,
   "id": "d1a5916e-f8d5-4050-82d5-225f9c3e721d",
   "metadata": {},
   "outputs": [
    {
     "name": "stdout",
     "output_type": "stream",
     "text": [
      "10\n"
     ]
    }
   ],
   "source": [
    "# write a program to sum up to 50 numbers\n",
    "\n",
    "sum_val = 0\n",
    "for val in range(1, 5): \n",
    "    sum_val += val\n",
    "    \n",
    "print(sum_val)\n",
    "\n"
   ]
  },
  {
   "cell_type": "code",
   "execution_count": 75,
   "id": "834ea273-8bed-4f97-840d-baace5997ed3",
   "metadata": {},
   "outputs": [
    {
     "name": "stdout",
     "output_type": "stream",
     "text": [
      "10\n"
     ]
    }
   ],
   "source": [
    "print(sum(range(1, 5)))"
   ]
  },
  {
   "cell_type": "code",
   "execution_count": null,
   "id": "f5c2c815-ab66-4f57-af25-16b7209e51ae",
   "metadata": {},
   "outputs": [],
   "source": []
  }
 ],
 "metadata": {
  "kernelspec": {
   "display_name": "Python 3 (ipykernel)",
   "language": "python",
   "name": "python3"
  },
  "language_info": {
   "codemirror_mode": {
    "name": "ipython",
    "version": 3
   },
   "file_extension": ".py",
   "mimetype": "text/x-python",
   "name": "python",
   "nbconvert_exporter": "python",
   "pygments_lexer": "ipython3",
   "version": "3.10.4"
  }
 },
 "nbformat": 4,
 "nbformat_minor": 5
}
