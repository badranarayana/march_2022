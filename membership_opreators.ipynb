{
 "cells": [
  {
   "cell_type": "code",
   "execution_count": 1,
   "id": "40ae2580-8f33-4129-b4f1-1ccf3640e5ca",
   "metadata": {},
   "outputs": [
    {
     "name": "stdout",
     "output_type": "stream",
     "text": [
      "False\n"
     ]
    }
   ],
   "source": [
    "# membership operators\n",
    "\n",
    "friends_list = ['ramu', 'raghu', 'akhila', 'mounika']\n",
    "\n",
    "# I want to check 'badra' avaiable in the friends list or not\n",
    "\n",
    "print('badra' in friends_list)\n",
    "\n"
   ]
  },
  {
   "cell_type": "code",
   "execution_count": 3,
   "id": "b29cab62-99d2-4ada-aa6c-19b0b2248fb0",
   "metadata": {},
   "outputs": [
    {
     "name": "stdout",
     "output_type": "stream",
     "text": [
      "True\n"
     ]
    }
   ],
   "source": [
    "print('akhila' in friends_list)"
   ]
  },
  {
   "cell_type": "code",
   "execution_count": 5,
   "id": "75d9bed8-d5f3-49fb-ac2c-a4d3e11688d8",
   "metadata": {},
   "outputs": [
    {
     "name": "stdout",
     "output_type": "stream",
     "text": [
      "False\n"
     ]
    }
   ],
   "source": [
    "print('Mounika' in friends_list) # reason python is case-sensitive"
   ]
  },
  {
   "cell_type": "code",
   "execution_count": null,
   "id": "16576b71-2308-4203-a8af-bc08362d31e2",
   "metadata": {},
   "outputs": [],
   "source": [
    "# in operator returns True when given value available in list, if not available returns the False value"
   ]
  },
  {
   "cell_type": "code",
   "execution_count": 12,
   "id": "130db317-052c-4599-a343-d0eb8ad558cf",
   "metadata": {},
   "outputs": [
    {
     "name": "stdout",
     "output_type": "stream",
     "text": [
      "['ramu', 'raghu', 'akhila', 'mounika', 'badra', 'badra']\n",
      "['ramu', 'raghu', 'akhila', 'mounika', 'badra', 'badra']\n"
     ]
    }
   ],
   "source": [
    "# write a program to add friend name to list if not available\n",
    "\n",
    "if 'badra' not in friends_list: # True\n",
    "    friends_list.append('badra')\n",
    "\n",
    "print(friends_list)\n",
    "\n",
    "if 'badra' not in friends_list: # False\n",
    "    print(\"&&&&&&&&\")\n",
    "    friends_list.append('badra')\n",
    "\n",
    "print(friends_list)"
   ]
  },
  {
   "cell_type": "code",
   "execution_count": 21,
   "id": "1daec1e2-5e72-451b-9e41-9fa0e731d7df",
   "metadata": {},
   "outputs": [
    {
     "name": "stdout",
     "output_type": "stream",
     "text": [
      "True\n"
     ]
    }
   ],
   "source": [
    "# string\n",
    "name = \"Mounika\"\n",
    "\n",
    "# I want to check 'u' char in name data?\n",
    "\n",
    "print('u' in name)\n"
   ]
  },
  {
   "cell_type": "code",
   "execution_count": 14,
   "id": "4d7259d4-4bc2-4327-b3dd-c5ab4bf6f938",
   "metadata": {},
   "outputs": [
    {
     "name": "stdout",
     "output_type": "stream",
     "text": [
      "False\n"
     ]
    }
   ],
   "source": [
    "print(\"m\" in name)"
   ]
  },
  {
   "cell_type": "code",
   "execution_count": 15,
   "id": "c4996c04-cb42-45a2-8031-f56e610ae3aa",
   "metadata": {},
   "outputs": [
    {
     "name": "stdout",
     "output_type": "stream",
     "text": [
      "True\n"
     ]
    }
   ],
   "source": [
    "print(\"ik\" in name)"
   ]
  },
  {
   "cell_type": "code",
   "execution_count": 18,
   "id": "08ae63c5-bc2e-41f5-bb94-a7ea9980940f",
   "metadata": {},
   "outputs": [
    {
     "name": "stdout",
     "output_type": "stream",
     "text": [
      "True\n"
     ]
    }
   ],
   "source": [
    "print(\"ika\" in name)"
   ]
  },
  {
   "cell_type": "code",
   "execution_count": 22,
   "id": "6bcbdfb5-01fa-493a-83e6-16ff39434740",
   "metadata": {},
   "outputs": [
    {
     "name": "stdout",
     "output_type": "stream",
     "text": [
      "False\n"
     ]
    }
   ],
   "source": [
    "print(\"onu\" in name)"
   ]
  },
  {
   "cell_type": "code",
   "execution_count": 26,
   "id": "052b1106-5b7a-43a1-b401-9ba203863290",
   "metadata": {},
   "outputs": [
    {
     "name": "stdout",
     "output_type": "stream",
     "text": [
      "False\n"
     ]
    }
   ],
   "source": [
    "# tuple\n",
    "data = (1, 2, 3, 4, 5)\n",
    "\n",
    "print(1 not in data)"
   ]
  },
  {
   "cell_type": "code",
   "execution_count": null,
   "id": "9859f7dd-45d4-4d52-9123-10abab6b90a9",
   "metadata": {},
   "outputs": [],
   "source": [
    "# in and not in operators can be used on sequence objects\n",
    "# 1) list\n",
    "# 2) tuple\n",
    "# 3) string\n",
    "# it uses index postion to store data.\n"
   ]
  }
 ],
 "metadata": {
  "kernelspec": {
   "display_name": "Python 3 (ipykernel)",
   "language": "python",
   "name": "python3"
  },
  "language_info": {
   "codemirror_mode": {
    "name": "ipython",
    "version": 3
   },
   "file_extension": ".py",
   "mimetype": "text/x-python",
   "name": "python",
   "nbconvert_exporter": "python",
   "pygments_lexer": "ipython3",
   "version": "3.10.4"
  }
 },
 "nbformat": 4,
 "nbformat_minor": 5
}
