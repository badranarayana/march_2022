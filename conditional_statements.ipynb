{
 "cells": [
  {
   "cell_type": "code",
   "execution_count": 2,
   "id": "788945c2-1476-46da-9b50-dcd450828aa7",
   "metadata": {},
   "outputs": [
    {
     "data": {
      "text/plain": [
       "'\\nsyntax:\\n\\nif <condition>:\\n    # if block code\\n'"
      ]
     },
     "execution_count": 2,
     "metadata": {},
     "output_type": "execute_result"
    }
   ],
   "source": [
    "# if condition stattement\n",
    "\n",
    "\"\"\"\n",
    "syntax:\n",
    "\n",
    "if <condition>:\n",
    "    # if block code\n",
    "\"\"\""
   ]
  },
  {
   "cell_type": "code",
   "execution_count": 42,
   "id": "8cc0d386-17bc-42c4-af0c-c548a8649993",
   "metadata": {},
   "outputs": [
    {
     "name": "stdout",
     "output_type": "stream",
     "text": [
      "grant visa card\n",
      "granting card and will send through post\n",
      "Posted......\n",
      "OUT\n"
     ]
    }
   ],
   "source": [
    "# write a program to print eligible smart card \n",
    "\n",
    "# visa (above 20000)\n",
    "# paypal( above 40000)\n",
    "# amazon card ( above 80,000)\n",
    "\n",
    "income = 25000\n",
    "\n",
    "if income > 20000 and income < 40000: # True and False ==> False\n",
    "    print(\"grant visa card\")\n",
    "    print(\"granting card and will send through post\")\n",
    "    print(\"Posted......\")\n",
    "\n",
    "if income > 40000 and income < 80000: # True and False ==> False\n",
    "    print(\"grant paypal card\")\n",
    "    print(\"granting card and will send through post\")\n",
    "    print(\"Posted......\")\n",
    "\n",
    "if income > 80000:\n",
    "    print(\"grant amazon card\")\n",
    "    print(\"granting card and will send through post\")\n",
    "    print(\"Posted......\")\n",
    "\n",
    "print(\"OUT\")\n",
    "\n"
   ]
  },
  {
   "cell_type": "code",
   "execution_count": 23,
   "id": "ee7d4b39-35d1-4d43-88f2-a561be4c3ab1",
   "metadata": {},
   "outputs": [
    {
     "name": "stdout",
     "output_type": "stream",
     "text": [
      "Given number is odd\n"
     ]
    }
   ],
   "source": [
    "# 2 ) if ..else statement\n",
    "\n",
    "# write a program to find given value is even number or odd number\n",
    "\n",
    "num = 99\n",
    "\n",
    "if num % 2 == 0:\n",
    "    print(\"Given number is even number\")\n",
    "else:\n",
    "    print(\"Given number is odd\")   \n"
   ]
  },
  {
   "cell_type": "code",
   "execution_count": 28,
   "id": "484f298f-fa0c-462a-be48-6e1bcc66645a",
   "metadata": {},
   "outputs": [
    {
     "name": "stdout",
     "output_type": "stream",
     "text": [
      "name doen't starts with vowel\n"
     ]
    }
   ],
   "source": [
    "# write a program to find given name starts vowels\n",
    "\n",
    "\n",
    "name = \"Bkhila\"\n",
    "\n",
    "char = name[0]\n",
    "# 'u'\n",
    "if char == 'a' or char == 'e' or char == 'i' or char == 'o' or char == 'u':\n",
    "    print(\"name starts with vowel\")\n",
    "else:\n",
    "    print(\"name doen't starts with vowel\")\n",
    "    \n",
    "\n"
   ]
  },
  {
   "cell_type": "code",
   "execution_count": 29,
   "id": "3ef8f7b9-10b3-489b-b75d-64df893a4d7c",
   "metadata": {},
   "outputs": [
    {
     "name": "stdout",
     "output_type": "stream",
     "text": [
      "name doen't starts with vowel\n"
     ]
    }
   ],
   "source": [
    "# write above programing using in opertaor\n",
    "vowels = ['a', 'e', 'i', 'o', 'u']\n",
    "char = name[0]\n",
    "# 'u'\n",
    "if char in vowels:\n",
    "    print(\"name starts with vowel\")\n",
    "else:\n",
    "    print(\"name doen't starts with vowel\")\n"
   ]
  },
  {
   "cell_type": "code",
   "execution_count": 39,
   "id": "e17f0755-3635-4f53-825f-c9eb8e079621",
   "metadata": {},
   "outputs": [
    {
     "name": "stdout",
     "output_type": "stream",
     "text": [
      "grant visa card\n",
      "granting card and will send through post\n",
      "Posted......\n",
      "OUT\n"
     ]
    }
   ],
   "source": [
    "income = 40000\n",
    "\n",
    "if income > 20000 and income <= 40000: # False\n",
    "    print(\"grant visa card\")\n",
    "    print(\"granting card and will send through post\")\n",
    "    print(\"Posted......\")\n",
    "\n",
    "elif income >= 40000 and income <= 80000:  # False\n",
    "    print(\"grant paypal card\")\n",
    "    print(\"granting card and will send through post\")\n",
    "    print(\"Posted......\")\n",
    "\n",
    "elif income >= 80000: # False\n",
    "    print(\"grant amazon card\")\n",
    "    print(\"granting card and will send through post\")\n",
    "    print(\"Posted......\")\n",
    "else:\n",
    "    print(\"No grant\")\n",
    "\n",
    "print(\"OUT\")\n"
   ]
  },
  {
   "cell_type": "code",
   "execution_count": 43,
   "id": "ec1c5c4b-2496-4467-9284-0174810a76cd",
   "metadata": {},
   "outputs": [
    {
     "name": "stdout",
     "output_type": "stream",
     "text": [
      "number available\n"
     ]
    }
   ],
   "source": [
    "# lets deal with list in if conditions\n",
    "\n",
    "nums = [1, 2, 34, 45]\n",
    "\n",
    "if 45 in nums:\n",
    "    print(\"number available\")\n"
   ]
  },
  {
   "cell_type": "code",
   "execution_count": 47,
   "id": "4be9bcd2-862c-4918-ba46-cdf28fe32fbb",
   "metadata": {},
   "outputs": [
    {
     "name": "stdout",
     "output_type": "stream",
     "text": [
      "('green', 'red', 'orange', 'blue')\n"
     ]
    }
   ],
   "source": [
    "# note: in operators can only used with sequence objects\n",
    "# list, tuple, string --> stores data with index postion\n",
    "\n",
    "# lets tuple\n",
    "\n",
    "colors = (\"green\", \"red\", 'orange')\n",
    "# want to add blue color if not available in tuple?\n",
    "# tuple is immutable object, that means we can't manupulate data once object created in memory\n",
    "\n",
    "if 'blue' not in colors:\n",
    "    # 1 convert tuple to list\n",
    "    colors = list(colors)\n",
    "    colors.append(\"blue\")\n",
    "    # 2 converting back to tuple\n",
    "    colors = tuple(colors)\n",
    "\n",
    "\n",
    "print(colors)\n",
    "\n",
    "\n"
   ]
  },
  {
   "cell_type": "code",
   "execution_count": 54,
   "id": "4666c51f-fb54-40eb-b07c-72580d62242c",
   "metadata": {},
   "outputs": [
    {
     "name": "stdout",
     "output_type": "stream",
     "text": [
      "condition satisfied\n"
     ]
    }
   ],
   "source": [
    "# lets deal with string\n",
    "\n",
    "location = \"Hyderabad\"\n",
    "\n",
    "if 'Hyderabad' in location:\n",
    "    print(\"condition satisfied\")\n",
    "else:\n",
    "    print(\"Not satisfied\")\n",
    "\n"
   ]
  },
  {
   "cell_type": "code",
   "execution_count": 62,
   "id": "905dfd25-95d9-4818-84d8-16a4cb0867fc",
   "metadata": {},
   "outputs": [
    {
     "name": "stdout",
     "output_type": "stream",
     "text": [
      "num is negative\n"
     ]
    }
   ],
   "source": [
    "# nested if ..else or eilf\n",
    "\n",
    "# write a program to print given value is positive or negative\n",
    "\n",
    "\n",
    "num = -21\n",
    "\n",
    "if num != 0: # True\n",
    "    if num > 0: # True\n",
    "        if num == 20: # True\n",
    "            print(\"Equal to 20\")\n",
    "        else:\n",
    "            print(\"num is positive\")\n",
    "    else:\n",
    "        print(\"num is negative\")\n",
    "\n",
    "\n",
    "        \n",
    "\n",
    "\n"
   ]
  },
  {
   "cell_type": "code",
   "execution_count": null,
   "id": "de831045-3679-43a8-8a2e-a85a054aa721",
   "metadata": {},
   "outputs": [],
   "source": []
  }
 ],
 "metadata": {
  "kernelspec": {
   "display_name": "Python 3 (ipykernel)",
   "language": "python",
   "name": "python3"
  },
  "language_info": {
   "codemirror_mode": {
    "name": "ipython",
    "version": 3
   },
   "file_extension": ".py",
   "mimetype": "text/x-python",
   "name": "python",
   "nbconvert_exporter": "python",
   "pygments_lexer": "ipython3",
   "version": "3.10.4"
  }
 },
 "nbformat": 4,
 "nbformat_minor": 5
}
