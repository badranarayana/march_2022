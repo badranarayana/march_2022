{
 "cells": [
  {
   "cell_type": "code",
   "execution_count": null,
   "id": "839a151e-fdf4-434a-b9d3-2881efcdf56b",
   "metadata": {},
   "outputs": [],
   "source": [
    "# What is data type?\n",
    "\n",
    "\n",
    "\"\"\"\n",
    "1) list\n",
    "2) tuple\n",
    "3) string\n",
    "4) dict\n",
    "5) set\n",
    "\n",
    "\n",
    "what are the primitve?\n",
    "int\n",
    "float\n",
    "str\n",
    "complex...\n",
    "\"\"\""
   ]
  },
  {
   "cell_type": "code",
   "execution_count": null,
   "id": "e1534cdf-7f3b-475f-9903-5f9457f96422",
   "metadata": {},
   "outputs": [],
   "source": []
  },
  {
   "cell_type": "code",
   "execution_count": null,
   "id": "9f391b37-a0ce-4e24-a7ff-a2746bd3990f",
   "metadata": {},
   "outputs": [],
   "source": [
    "# what is list?\n",
    "\n",
    "\"\"\"\n",
    "* list is a mutable sequence object in python\n",
    "* can create list with [ ] or list()\n",
    "* list stores data in the form index postion\n",
    "* can access items from the list by using index position\n",
    "* list can be accessible with +ve index and -ve index, index starts with 0 and endwith n-1\n",
    "  incase of -ve index, index starts with -1 end ends with -n\n",
    "* list a mutable, means data can modifiable/manipula data once object created in memory\n",
    "\n",
    "syntax:\n",
    "------\n",
    "\n",
    "# creating empty list\n",
    "\n",
    "\n",
    "data = []  # empty\n",
    "\n",
    "data = list() # it creates empty lits\n",
    "\n",
    "data = [1, 2, 3] # creating list with some values\n",
    "\n",
    "\"\"\"\n",
    "\n"
   ]
  },
  {
   "cell_type": "code",
   "execution_count": 1,
   "id": "07b329eb-ae9b-4459-a224-b695af14f336",
   "metadata": {},
   "outputs": [
    {
     "name": "stdout",
     "output_type": "stream",
     "text": [
      "1\n",
      "2\n",
      "3\n",
      "4\n",
      "5\n"
     ]
    }
   ],
   "source": [
    "# write a prorgam to print all items from the given list\n",
    "data = [1, 2, 3, 4, 5] # iterable object\n",
    "for item in data:\n",
    "    print(item)"
   ]
  },
  {
   "cell_type": "code",
   "execution_count": 6,
   "id": "ff1e8af0-4c58-4779-9935-c36b1fbdde8a",
   "metadata": {},
   "outputs": [
    {
     "name": "stdout",
     "output_type": "stream",
     "text": [
      "blue\n",
      "green\n",
      "red\n"
     ]
    }
   ],
   "source": [
    "# access data from list  called as indexing\n",
    "\n",
    "colors = ['blue', 'green', 'red']\n",
    "\n",
    "# access first color\n",
    "print(colors[0])\n",
    "print(colors[1])\n",
    "print(colors[2])\n"
   ]
  },
  {
   "cell_type": "code",
   "execution_count": 7,
   "id": "206c606c-3883-480e-8699-a4d3d9363bb5",
   "metadata": {},
   "outputs": [
    {
     "ename": "IndexError",
     "evalue": "list index out of range",
     "output_type": "error",
     "traceback": [
      "\u001b[1;31m---------------------------------------------------------------------------\u001b[0m",
      "\u001b[1;31mIndexError\u001b[0m                                Traceback (most recent call last)",
      "Input \u001b[1;32mIn [7]\u001b[0m, in \u001b[0;36m<cell line: 2>\u001b[1;34m()\u001b[0m\n\u001b[0;32m      1\u001b[0m \u001b[38;5;66;03m# list index out of range\u001b[39;00m\n\u001b[1;32m----> 2\u001b[0m \u001b[38;5;28mprint\u001b[39m(\u001b[43mcolors\u001b[49m\u001b[43m[\u001b[49m\u001b[38;5;241;43m3\u001b[39;49m\u001b[43m]\u001b[49m)\n",
      "\u001b[1;31mIndexError\u001b[0m: list index out of range"
     ]
    }
   ],
   "source": [
    "# list index out of range\n",
    "print(colors[3])"
   ]
  },
  {
   "cell_type": "code",
   "execution_count": 9,
   "id": "f77e57cd-8190-4916-97b9-c90241b29163",
   "metadata": {},
   "outputs": [
    {
     "name": "stdout",
     "output_type": "stream",
     "text": [
      "red\n",
      "green\n",
      "blue\n"
     ]
    }
   ],
   "source": [
    "# access items by using -ve index\n",
    "\n",
    "# access last item\n",
    "print(colors[-1])\n",
    "print(colors[-2])\n",
    "print(colors[-3])"
   ]
  },
  {
   "cell_type": "code",
   "execution_count": 10,
   "id": "a5bb9d61-d094-4e1b-8668-e0fd450a49a8",
   "metadata": {},
   "outputs": [
    {
     "ename": "IndexError",
     "evalue": "list index out of range",
     "output_type": "error",
     "traceback": [
      "\u001b[1;31m---------------------------------------------------------------------------\u001b[0m",
      "\u001b[1;31mIndexError\u001b[0m                                Traceback (most recent call last)",
      "Input \u001b[1;32mIn [10]\u001b[0m, in \u001b[0;36m<cell line: 1>\u001b[1;34m()\u001b[0m\n\u001b[1;32m----> 1\u001b[0m \u001b[38;5;28mprint\u001b[39m(\u001b[43mcolors\u001b[49m\u001b[43m[\u001b[49m\u001b[38;5;241;43m-\u001b[39;49m\u001b[38;5;241;43m4\u001b[39;49m\u001b[43m]\u001b[49m)\n",
      "\u001b[1;31mIndexError\u001b[0m: list index out of range"
     ]
    }
   ],
   "source": [
    "print(colors[-4])"
   ]
  },
  {
   "cell_type": "code",
   "execution_count": 15,
   "id": "22960466-cca7-4c9d-9f2f-d4ef97c8296b",
   "metadata": {},
   "outputs": [
    {
     "name": "stdout",
     "output_type": "stream",
     "text": [
      "3\n",
      "4\n"
     ]
    }
   ],
   "source": [
    "data = [1, 2, 3, 4, 5]\n",
    "\n",
    "\n",
    "# get the num 3 from above list\n",
    "print(data[2])\n",
    "print(data[3])"
   ]
  },
  {
   "cell_type": "code",
   "execution_count": null,
   "id": "f0c2819a-1676-442b-b3e1-7c88044351a6",
   "metadata": {},
   "outputs": [],
   "source": [
    "# indexing --> it is process of storing and retriving data with index value from sequence object(list, tuple, string)"
   ]
  },
  {
   "cell_type": "code",
   "execution_count": 18,
   "id": "654c7a84-a0ea-445c-8b01-088ad771dbf3",
   "metadata": {},
   "outputs": [
    {
     "name": "stdout",
     "output_type": "stream",
     "text": [
      "['JJJJ', 2, 3]\n",
      "['JJJJ', 2, 'DDDD']\n",
      "['JJJJ', 2, 'NEw val']\n"
     ]
    }
   ],
   "source": [
    "# write a program to add values to list\n",
    "data = [1, 2, 3]\n",
    "\n",
    "# add new value at 0 index\n",
    "data[0] = \"JJJJ\"\n",
    "\n",
    "print(data)\n",
    "\n",
    "# replace 3 with \"DDDD\"\n",
    "data[2] = 'DDDD'\n",
    "print(data)\n",
    "\n",
    "data[-1] = \"NEw val\"\n",
    "print(data)\n"
   ]
  },
  {
   "cell_type": "code",
   "execution_count": 22,
   "id": "b6111d11-4193-467c-bd18-7513478f7157",
   "metadata": {},
   "outputs": [
    {
     "name": "stdout",
     "output_type": "stream",
     "text": [
      "4\n",
      "4\n",
      "[1, 2, 3, 'New  val']\n"
     ]
    }
   ],
   "source": [
    "# Write a program to update value with + ve index and -ve index\n",
    "\n",
    "data = [1, 2, 3, 4]\n",
    "# +ve index\n",
    "print(data[3])\n",
    "#data[3] = \"new value 4\"\n",
    "\n",
    "# -ve index\n",
    "print(data[-1])\n",
    "data[-1] = \"New  val\"\n",
    "print(data)\n"
   ]
  },
  {
   "cell_type": "code",
   "execution_count": null,
   "id": "65f4fbbb-83b3-4c72-86dc-fd2bcb41f43f",
   "metadata": {},
   "outputs": [],
   "source": [
    "# Note: list is mutable object, can change data once object created in memory\n",
    "# list can store any python object(tuple, str, bool, etc..)"
   ]
  },
  {
   "cell_type": "code",
   "execution_count": 37,
   "id": "1fad3692-9c92-4912-80b1-7222ed3bc9fb",
   "metadata": {},
   "outputs": [
    {
     "name": "stdout",
     "output_type": "stream",
     "text": [
      "[(2, 3), (3, 4), (5, 6)]\n"
     ]
    }
   ],
   "source": [
    "# lets create list of tuples\n",
    "\n",
    "data = [(2, 3), (3, 4), (5, 6)]\n",
    "print(data)"
   ]
  },
  {
   "cell_type": "code",
   "execution_count": 30,
   "id": "56fda7f0-2402-4368-a952-300247e9d6c2",
   "metadata": {},
   "outputs": [
    {
     "name": "stdout",
     "output_type": "stream",
     "text": [
      "(2, 3)\n",
      "(2, 3)\n"
     ]
    }
   ],
   "source": [
    "# access first tuple from list\n",
    "print(data[0])\n",
    "print(data[-3])"
   ]
  },
  {
   "cell_type": "code",
   "execution_count": 36,
   "id": "019bb6a0-e5fc-4394-9dfc-4b8dd785885e",
   "metadata": {},
   "outputs": [
    {
     "name": "stdout",
     "output_type": "stream",
     "text": [
      "3\n"
     ]
    }
   ],
   "source": [
    "out = data[0][1]\n",
    "print(out)"
   ]
  },
  {
   "cell_type": "code",
   "execution_count": 42,
   "id": "58957574-c3af-45b2-b615-a230e7e73cdf",
   "metadata": {},
   "outputs": [
    {
     "name": "stdout",
     "output_type": "stream",
     "text": [
      "3\n"
     ]
    }
   ],
   "source": [
    "out = data[0][-1]\n",
    "print(out)"
   ]
  },
  {
   "cell_type": "code",
   "execution_count": 41,
   "id": "0bab5e01-dd9b-4079-8300-6645b35a092f",
   "metadata": {},
   "outputs": [
    {
     "name": "stdout",
     "output_type": "stream",
     "text": [
      "2\n"
     ]
    }
   ],
   "source": []
  },
  {
   "cell_type": "code",
   "execution_count": null,
   "id": "489f5074-d889-4685-aa87-cb0a5f51113c",
   "metadata": {},
   "outputs": [],
   "source": [
    "# slicing\n",
    "# applying built - in functions on list\n",
    "# list methods"
   ]
  },
  {
   "cell_type": "code",
   "execution_count": 17,
   "id": "c1abf617-63ef-484e-b4f1-584cb0cf84c5",
   "metadata": {},
   "outputs": [
    {
     "name": "stdout",
     "output_type": "stream",
     "text": [
      "[1, 2, 3]\n",
      "[4, 5]\n",
      "[2, 3, 4, 5, 6, 7, 8, 9]\n",
      "[3, 4, 5, 6, 7, 8, 9]\n"
     ]
    }
   ],
   "source": [
    "# slicing --> Slicing is process of getting data by proving index range(start index and end index)\n",
    "\n",
    "'''\n",
    "\n",
    "data[start_index: end_index: step]\n",
    "'''\n",
    "\n",
    "data = [1, 2, 3, 4, 5, 6, 7, 8, 9]\n",
    "# \n",
    "new_list = data[0:3]\n",
    "print(new_list)\n",
    "\n",
    "# slice a list to include [4, 5]\n",
    "\n",
    "print(data[3:5])\n",
    "\n",
    "# slice list to inclue 1 index to till 3 index\n",
    "# [1,]\n",
    "print(data[1:])\n",
    "\n",
    "print(data[2:])\n",
    "\n",
    "\n"
   ]
  },
  {
   "cell_type": "code",
   "execution_count": 32,
   "id": "bfe298b1-a1bc-4930-91ad-4be761a4da99",
   "metadata": {},
   "outputs": [
    {
     "name": "stdout",
     "output_type": "stream",
     "text": [
      "capgemini\n",
      "['wipro', 'tcs', 'cts', 'capgemini']\n",
      "['cts', 'capgemini', 'infosys', 'mindtree']\n"
     ]
    }
   ],
   "source": [
    "\n",
    "company_names = ['wipro', 'tcs', 'cts', 'capgemini', 'infosys', \"mindtree\"]\n",
    "\n",
    "\n",
    "# index\n",
    "print(company_names[3])\n",
    "\n",
    "# slicing it always give the new sliced object\n",
    "\n",
    "print(company_names[0:4])\n",
    "\n",
    "\n",
    "\n",
    "# include only last 3 items\n",
    "print(company_names[-4:])\n",
    "\n",
    "\n"
   ]
  },
  {
   "cell_type": "code",
   "execution_count": 34,
   "id": "be093890-12d4-4a05-b087-c20da3f9ac02",
   "metadata": {},
   "outputs": [
    {
     "name": "stdout",
     "output_type": "stream",
     "text": [
      "[5, 4, 3, 2, 1]\n"
     ]
    }
   ],
   "source": [
    "# index returns the values\n",
    "# slicing returns the range of values\n",
    "\n",
    "\n",
    "# write a program to reverse a list by using slicing syntax?\n",
    "\n",
    "data = [1, 2, 3, 4,5]\n",
    "\n",
    "print(data[::-1])\n"
   ]
  },
  {
   "cell_type": "code",
   "execution_count": 45,
   "id": "3a947a76-72eb-460d-88c9-7144309fd23f",
   "metadata": {},
   "outputs": [
    {
     "name": "stdout",
     "output_type": "stream",
     "text": [
      "['green', 'blue', 'white', 'ttt']\n",
      "['green', 'yellow', 'ttt']\n",
      "['green', 'white']\n",
      "['blue', 'white', 'ttt']\n"
     ]
    }
   ],
   "source": [
    "# using step in slicing syntax\n",
    "# data[s_index: end_index: step]\n",
    "\n",
    "data = ['green', 'red', 'blue', 'yellow', 'white', 'ggg', 'ttt']\n",
    "\n",
    "# write program to prduce below out put\n",
    "# ['green', 'blue', 'white']\n",
    "\n",
    "print(data[::2])\n",
    "print(data[::3])\n",
    "print(data[::4])\n",
    "\n",
    "# start the slicing from blue color iterm\n",
    "\n",
    "print(data[2::2])\n",
    "\n",
    "\n",
    "\n",
    "\n",
    "\n",
    "\n",
    "\n",
    "\n"
   ]
  },
  {
   "cell_type": "code",
   "execution_count": 47,
   "id": "edae1ade-9d19-459a-90be-1897cc15502c",
   "metadata": {},
   "outputs": [
    {
     "name": "stdout",
     "output_type": "stream",
     "text": [
      "5\n"
     ]
    }
   ],
   "source": [
    "\n",
    "# let write a program to find the length of list\n",
    "\n",
    "data = [1, 2, 4, 55, 566]\n",
    "print(len(data))\n",
    "\n",
    "# len is a bult-in function used to find the lenght of object\n"
   ]
  },
  {
   "cell_type": "code",
   "execution_count": 65,
   "id": "11aa120d-b0c3-4e22-8cab-80fb9980a88d",
   "metadata": {},
   "outputs": [
    {
     "name": "stdout",
     "output_type": "stream",
     "text": [
      "10\n",
      "1\n",
      "4\n",
      "Hello world\n",
      "Hello world1\n"
     ]
    }
   ],
   "source": [
    "# all(), sum(), min(), max(), sorted(), any()\n",
    "\n",
    "data = [1, 2, 3, 4]\n",
    "# find sum of all elemengts\n",
    "print(sum(data))\n",
    "\n",
    "# find min vale from list\n",
    "print(min(data))\n",
    "\n",
    "# find max value from the list\n",
    "\n",
    "print(max(data))\n",
    "\n",
    "# write a program to print \"Hello\" when all items in list is real objects(should not contain '', 0, None, False)\n",
    "\n",
    "# all return True when all values are real, False if any of the value in list in '', 0 , None, False\n",
    "data = [1, 2, 3, 4]\n",
    "\n",
    "if all(data):\n",
    "    print(\"Hello world\")\n",
    "\n",
    "    \n",
    "data = [1, 2, 3]\n",
    "\n",
    "if all(data):\n",
    "    print(\"Hello world1\")\n",
    "\n",
    "    \n",
    "    \n",
    "# any --> return true if at least one real object found in list\n",
    "\n",
    "data = ['', '', 0, False, '']\n",
    "\n",
    "if any(data):\n",
    "    print(\"any: hello world\")\n",
    "\n",
    "\n",
    "\n"
   ]
  },
  {
   "cell_type": "code",
   "execution_count": 70,
   "id": "9231d1a7-14a7-4c49-9fa4-ef881d60a94f",
   "metadata": {},
   "outputs": [
    {
     "name": "stdout",
     "output_type": "stream",
     "text": [
      "[1, 2, 3, 4, 5, 7]\n"
     ]
    }
   ],
   "source": [
    "# write a program to sort the given list in asc\n",
    "\n",
    "data = [5, 3, 7, 2, 4, 1]\n",
    "\n",
    "print(sorted(data, reverse=False))\n",
    "#print(data)"
   ]
  },
  {
   "cell_type": "code",
   "execution_count": 72,
   "id": "68a4cc2d-c05c-40b6-a930-507f0174ee6d",
   "metadata": {},
   "outputs": [
    {
     "name": "stdout",
     "output_type": "stream",
     "text": [
      "[4, 4, 3, 2, 1]\n"
     ]
    }
   ],
   "source": [
    "# reversed()\n",
    "\n",
    "data = [1, 2, 3, 4, 4]\n",
    "\n",
    "print(list(reversed(data)))"
   ]
  },
  {
   "cell_type": "code",
   "execution_count": 78,
   "id": "297b427e-ad9b-4ce8-aa67-c33456abef7f",
   "metadata": {},
   "outputs": [
    {
     "name": "stdout",
     "output_type": "stream",
     "text": [
      "(444, 222, 6, 6, 5, 4, 2, 2, 1, 1)\n"
     ]
    }
   ],
   "source": [
    "#\n",
    "\n",
    "data = (1,2,4,5,6,6,222,444,1,2)\n",
    "\n",
    "# sort this tuple in asc\n",
    "print(tuple(reversed(tuple(sorted(data)))))\n",
    "\n"
   ]
  },
  {
   "cell_type": "code",
   "execution_count": 79,
   "id": "c65f12e5-e35e-477c-b583-f31a1c4b6f13",
   "metadata": {},
   "outputs": [
    {
     "name": "stdout",
     "output_type": "stream",
     "text": [
      "[]\n",
      "['hhh']\n"
     ]
    }
   ],
   "source": [
    "# list specific methods\n",
    "\"\"\"\n",
    "1) append()\n",
    "2) extend()\n",
    "3) clear()\n",
    "4) copy()\n",
    "5) pop()\n",
    "6) remove()\n",
    "7) insert()\n",
    "\"\"\"\n",
    "\n",
    "data = []\n",
    "\n",
    "print(data)\n",
    "# add items\n",
    "data.append(\"hhh\")\n",
    "\n",
    "print(data)"
   ]
  },
  {
   "cell_type": "code",
   "execution_count": 4,
   "id": "0df59e77-d57b-4313-ac19-06bdd315a2a9",
   "metadata": {},
   "outputs": [
    {
     "name": "stdout",
     "output_type": "stream",
     "text": [
      "[]\n",
      "['Rice']\n",
      "['Rice', 'vegs']\n",
      "['Rice', 'vegs', 'oils']\n"
     ]
    }
   ],
   "source": [
    "# list methods \n",
    "\n",
    "# how do we create list?\n",
    "\n",
    "basket = []\n",
    "\n",
    "\n",
    "print(basket)\n",
    "\n",
    "# list.append() --> used to add data to the list\n",
    "\n",
    "basket.append('Rice')\n",
    "print(basket)\n",
    "\n",
    "basket.append(\"vegs\")\n",
    "\n",
    "print(basket)\n",
    "\n",
    "basket.append(\"oils\")\n",
    "print(basket)\n",
    "\n",
    "\n",
    "# note list is an ordered collection/object, preserves the sate \n",
    "\n"
   ]
  },
  {
   "cell_type": "code",
   "execution_count": 9,
   "id": "1cf3e288-54c0-43e1-9e18-5e723bf809a7",
   "metadata": {},
   "outputs": [
    {
     "name": "stdout",
     "output_type": "stream",
     "text": [
      "['oil', 'vegs', 'soaps', 'pens', 'fruits']\n",
      "['oil', 'vegs', 'soaps', 'pens', 'fruits', 'a', 'b', 'c']\n"
     ]
    }
   ],
   "source": [
    "# list.extend()\n",
    "\n",
    "basket = ['oil', 'vegs']\n",
    "\n",
    "\n",
    "basket2 = ['soaps', 'pens', 'fruits']\n",
    "\n",
    "# for item in basket2:\n",
    "#     basket.append(item)\n",
    "\n",
    "basket.extend(basket2)\n",
    "\n",
    "print(basket)\n",
    "\n",
    "basket.extend(['a', 'b', 'c'])\n",
    "\n",
    "print(basket)\n",
    "\n",
    "\n",
    "\n",
    "# apend() and extend() methods adds data at the end of the list"
   ]
  },
  {
   "cell_type": "code",
   "execution_count": 18,
   "id": "6def8803-614b-49c4-9ee9-50a549463e3c",
   "metadata": {},
   "outputs": [
    {
     "name": "stdout",
     "output_type": "stream",
     "text": [
      "[1, 3, 4, 5, 6]\n",
      "[1, 3, 4, 10, 5, 6]\n",
      "['white', 'green', 'red']\n",
      "['white', 'green', 'red', 'Yellow']\n",
      "['white', 'green', 'red', 'pink', 'Yellow']\n",
      "['white', 'green', 'red', 'pink', 'Yellow', 'blue']\n"
     ]
    }
   ],
   "source": [
    "# list.insert()\n",
    "# used to insert value at particular index position\n",
    "\n",
    "data = [1, 3, 4, 5, 6]\n",
    "\n",
    "#data.append(2)\n",
    "\n",
    "#data.insert(1, 2)\n",
    "print(data)\n",
    "\n",
    "\n",
    "data.insert(3, 10)\n",
    "print(data)\n",
    "\n",
    "\n",
    "\n",
    "\n",
    "\n",
    "colors = ['green', 'red']\n",
    "\n",
    "\n",
    "# insert white color as first item in list\n",
    "#colors[0] = 'while' # overriting --< we loss the value\n",
    "\n",
    "colors.insert(0, 'white')\n",
    "print(colors)\n",
    "\n",
    "# add end of list\n",
    "\n",
    "colors.append(\"Yellow\") # end of list will be added\n",
    "print(colors)\n",
    "\n",
    "colors.insert(-1, \"pink\")\n",
    "\n",
    "print(colors)\n",
    "\n",
    "colors.append(\"blue\")\n",
    "print(colors)"
   ]
  },
  {
   "cell_type": "code",
   "execution_count": 32,
   "id": "133448ad-c7e7-48ec-9da8-a893e088f490",
   "metadata": {},
   "outputs": [
    {
     "name": "stdout",
     "output_type": "stream",
     "text": [
      "['white', 'yellow', 'pink', 'gray']\n",
      "['white', 'yellow', 'gray']\n"
     ]
    }
   ],
   "source": [
    "# how to delete data from list object\n",
    "\n",
    "# deleting by using index position\n",
    "data = ['green', 'white', 'yellow', 'pink', 'gray']\n",
    "\n",
    "# delete by using list method\n",
    "#print(data.pop()) # --> it removes value from list and return removed value\n",
    "\n",
    "#print(data)\n",
    "\n",
    "# delete green color\n",
    "#data.pop(0)\n",
    "\n",
    "\n",
    "data.pop(0)\n",
    "print(data)\n",
    "\n",
    "\n",
    "data.pop(-2)\n",
    "print(data)"
   ]
  },
  {
   "cell_type": "code",
   "execution_count": 36,
   "id": "e0e2718f-cda4-4ee3-991c-d98b494459cc",
   "metadata": {},
   "outputs": [
    {
     "name": "stdout",
     "output_type": "stream",
     "text": [
      "['apple', 'mango']\n"
     ]
    },
    {
     "ename": "NameError",
     "evalue": "name 'data' is not defined",
     "output_type": "error",
     "traceback": [
      "\u001b[1;31m---------------------------------------------------------------------------\u001b[0m",
      "\u001b[1;31mNameError\u001b[0m                                 Traceback (most recent call last)",
      "Input \u001b[1;32mIn [36]\u001b[0m, in \u001b[0;36m<cell line: 13>\u001b[1;34m()\u001b[0m\n\u001b[0;32m      9\u001b[0m \u001b[38;5;66;03m# delete entire list\u001b[39;00m\n\u001b[0;32m     11\u001b[0m \u001b[38;5;28;01mdel\u001b[39;00m data  \u001b[38;5;66;03m# it is going to delete data variable from memory\u001b[39;00m\n\u001b[1;32m---> 13\u001b[0m \u001b[38;5;28mprint\u001b[39m(\u001b[43mdata\u001b[49m)\n",
      "\u001b[1;31mNameError\u001b[0m: name 'data' is not defined"
     ]
    }
   ],
   "source": [
    "# delete by using del key word and index position\n",
    "data = ['apple', 'mango', 'orange']\n",
    "\n",
    "# note : 'del' is keyword used to delete the objects from memory\n",
    "\n",
    "del data[2] # it deletes value at index 2\n",
    "print(data)\n",
    "\n",
    "# delete entire list\n",
    "\n",
    "del data  # it is going to delete data variable from memory\n",
    "\n",
    "print(data)\n"
   ]
  },
  {
   "cell_type": "code",
   "execution_count": 40,
   "id": "4e85f974-8d8b-4e7b-b968-1be54ceadc5a",
   "metadata": {},
   "outputs": [
    {
     "name": "stdout",
     "output_type": "stream",
     "text": [
      "['a', 'b', 'c', 4, 5, 2]\n",
      "['a', 'b', 'c', 4, 5]\n",
      "['a', 'c', 4, 5]\n"
     ]
    }
   ],
   "source": [
    "# delete by using value\n",
    "# list.remove() --> removes given value from list\n",
    "\n",
    "data = ['a', 'b', 'c', 2, 4, 5, 2]\n",
    "\n",
    "# remove item 2\n",
    "\n",
    "data.remove(2)  # it takes value not the index\n",
    "print(data)\n",
    "\n",
    "# note : remove only remove first matching object in list\n",
    "\n",
    "data.remove(2)\n",
    "print(data)\n",
    "\n",
    "data.remove('b')\n",
    "print(data)\n",
    "\n",
    "\n",
    "\n"
   ]
  },
  {
   "cell_type": "code",
   "execution_count": null,
   "id": "cd03625f-c543-4fe0-92ba-b7fb0f63ccc7",
   "metadata": {},
   "outputs": [],
   "source": [
    "# when will we use pop() on list?\n",
    "\"\"\"\n",
    "use pop when you want to delete item by using index val\n",
    "\"\"\"\n",
    "\n",
    "# when will we use remove()?\n",
    "\"\"\"\n",
    "use remove, when you want to delete item by providing item/value, not the index position\n",
    "\"\"\"\n",
    "\n"
   ]
  },
  {
   "cell_type": "code",
   "execution_count": 42,
   "id": "e7656a22-cd49-4415-800f-5a292e33bb8d",
   "metadata": {},
   "outputs": [
    {
     "name": "stdout",
     "output_type": "stream",
     "text": [
      "[1, 2, 4, 5]\n",
      "[]\n"
     ]
    }
   ],
   "source": [
    "# how do clear entire data?\n",
    "\n",
    "data = [1, 2, 4, 5]\n",
    "\n",
    "print(data)\n",
    "# clear all value and make it empty\n",
    "data.clear()\n",
    "\n",
    "print(data)"
   ]
  },
  {
   "cell_type": "code",
   "execution_count": 48,
   "id": "acb35702-057d-4f1c-bd6e-5bb326f64a60",
   "metadata": {},
   "outputs": [
    {
     "name": "stdout",
     "output_type": "stream",
     "text": [
      "1\n",
      "0\n",
      "2\n",
      "Index 0\n",
      "company tcs\n",
      "Index 1\n",
      "company wipro\n",
      "Index 2\n",
      "company capgemini\n",
      "Index 3\n",
      "company capgemini\n",
      "[2, 3]\n",
      "capgemini\n",
      "capgemini\n"
     ]
    }
   ],
   "source": [
    "# how do we find the index value if you know item/value?\n",
    "company_names = ['tcs', 'wipro',  'capgemini', 'capgemini']\n",
    "\n",
    "\n",
    "# find the index postion of wipro\n",
    "\n",
    "index_val = company_names.index('wipro') \n",
    "print(index_val)\n",
    "\n",
    "# index of tcs\n",
    "index_val = company_names.index('tcs') \n",
    "print(index_val)\n",
    "\n",
    "\n",
    "# index of capgemini\n",
    "index_val = company_names.index('capgemini') # it just returns the first occurence item index position\n",
    "print(index_val)\n",
    "\n",
    "\n",
    "#  write a program to find all index postion of value capgemini?\n",
    "\n",
    "capgemini_index = []\n",
    "for index, company in enumerate(company_names):\n",
    "    print(\"Index\", index)\n",
    "    print(\"company\", company)\n",
    "    if company == 'capgemini':\n",
    "        capgemini_index.append(index)\n",
    "\n",
    "print(capgemini_index)\n",
    "\n",
    "for index in capgemini_index:\n",
    "    print(company_names[index])\n",
    "\n"
   ]
  },
  {
   "cell_type": "code",
   "execution_count": null,
   "id": "c974ed19-9943-40f2-a0f3-4923ff487fee",
   "metadata": {},
   "outputs": [],
   "source": [
    "# shallow copy and deep copy on list?"
   ]
  }
 ],
 "metadata": {
  "kernelspec": {
   "display_name": "Python 3 (ipykernel)",
   "language": "python",
   "name": "python3"
  },
  "language_info": {
   "codemirror_mode": {
    "name": "ipython",
    "version": 3
   },
   "file_extension": ".py",
   "mimetype": "text/x-python",
   "name": "python",
   "nbconvert_exporter": "python",
   "pygments_lexer": "ipython3",
   "version": "3.10.4"
  }
 },
 "nbformat": 4,
 "nbformat_minor": 5
}
