{
 "cells": [
  {
   "cell_type": "code",
   "execution_count": null,
   "id": "839a151e-fdf4-434a-b9d3-2881efcdf56b",
   "metadata": {},
   "outputs": [],
   "source": [
    "# What is data type?\n",
    "\n",
    "\n",
    "\"\"\"\n",
    "1) list\n",
    "2) tuple\n",
    "3) string\n",
    "4) dict\n",
    "5) set\n",
    "\n",
    "\n",
    "what are the primitve?\n",
    "int\n",
    "float\n",
    "str\n",
    "complex...\n",
    "\"\"\""
   ]
  },
  {
   "cell_type": "code",
   "execution_count": null,
   "id": "9f391b37-a0ce-4e24-a7ff-a2746bd3990f",
   "metadata": {},
   "outputs": [],
   "source": [
    "# what is list?\n",
    "\n",
    "\"\"\"\n",
    "* list is a mutable sequence object in python\n",
    "* can create list with [ ] or list()\n",
    "* list stores data in the form index postion\n",
    "* can access items from the list by using index position\n",
    "* list can be accessible with +ve index and -ve index, index starts with 0 and endwith n-1\n",
    "  incase of -ve index, index starts with -1 end ends with -n\n",
    "* list a mutable, means data can modifiable/manipula data once object created in memory\n",
    "\n",
    "syntax:\n",
    "------\n",
    "\n",
    "# creating empty list\n",
    "\n",
    "\n",
    "data = []  # empty\n",
    "\n",
    "data = list() # it creates empty lits\n",
    "\n",
    "data = [1, 2, 3] # creating list with some values\n",
    "\n",
    "\"\"\"\n",
    "\n"
   ]
  },
  {
   "cell_type": "code",
   "execution_count": 1,
   "id": "07b329eb-ae9b-4459-a224-b695af14f336",
   "metadata": {},
   "outputs": [
    {
     "name": "stdout",
     "output_type": "stream",
     "text": [
      "1\n",
      "2\n",
      "3\n",
      "4\n",
      "5\n"
     ]
    }
   ],
   "source": [
    "# write a prorgam to print all items from the given list\n",
    "data = [1, 2, 3, 4, 5] # iterable object\n",
    "for item in data:\n",
    "    print(item)"
   ]
  },
  {
   "cell_type": "code",
   "execution_count": 6,
   "id": "ff1e8af0-4c58-4779-9935-c36b1fbdde8a",
   "metadata": {},
   "outputs": [
    {
     "name": "stdout",
     "output_type": "stream",
     "text": [
      "blue\n",
      "green\n",
      "red\n"
     ]
    }
   ],
   "source": [
    "# access data from list  called as indexing\n",
    "\n",
    "colors = ['blue', 'green', 'red']\n",
    "\n",
    "# access first color\n",
    "print(colors[0])\n",
    "print(colors[1])\n",
    "print(colors[2])\n"
   ]
  },
  {
   "cell_type": "code",
   "execution_count": 7,
   "id": "206c606c-3883-480e-8699-a4d3d9363bb5",
   "metadata": {},
   "outputs": [
    {
     "ename": "IndexError",
     "evalue": "list index out of range",
     "output_type": "error",
     "traceback": [
      "\u001b[1;31m---------------------------------------------------------------------------\u001b[0m",
      "\u001b[1;31mIndexError\u001b[0m                                Traceback (most recent call last)",
      "Input \u001b[1;32mIn [7]\u001b[0m, in \u001b[0;36m<cell line: 2>\u001b[1;34m()\u001b[0m\n\u001b[0;32m      1\u001b[0m \u001b[38;5;66;03m# list index out of range\u001b[39;00m\n\u001b[1;32m----> 2\u001b[0m \u001b[38;5;28mprint\u001b[39m(\u001b[43mcolors\u001b[49m\u001b[43m[\u001b[49m\u001b[38;5;241;43m3\u001b[39;49m\u001b[43m]\u001b[49m)\n",
      "\u001b[1;31mIndexError\u001b[0m: list index out of range"
     ]
    }
   ],
   "source": [
    "# list index out of range\n",
    "print(colors[3])"
   ]
  },
  {
   "cell_type": "code",
   "execution_count": 9,
   "id": "f77e57cd-8190-4916-97b9-c90241b29163",
   "metadata": {},
   "outputs": [
    {
     "name": "stdout",
     "output_type": "stream",
     "text": [
      "red\n",
      "green\n",
      "blue\n"
     ]
    }
   ],
   "source": [
    "# access items by using -ve index\n",
    "\n",
    "# access last item\n",
    "print(colors[-1])\n",
    "print(colors[-2])\n",
    "print(colors[-3])"
   ]
  },
  {
   "cell_type": "code",
   "execution_count": 10,
   "id": "a5bb9d61-d094-4e1b-8668-e0fd450a49a8",
   "metadata": {},
   "outputs": [
    {
     "ename": "IndexError",
     "evalue": "list index out of range",
     "output_type": "error",
     "traceback": [
      "\u001b[1;31m---------------------------------------------------------------------------\u001b[0m",
      "\u001b[1;31mIndexError\u001b[0m                                Traceback (most recent call last)",
      "Input \u001b[1;32mIn [10]\u001b[0m, in \u001b[0;36m<cell line: 1>\u001b[1;34m()\u001b[0m\n\u001b[1;32m----> 1\u001b[0m \u001b[38;5;28mprint\u001b[39m(\u001b[43mcolors\u001b[49m\u001b[43m[\u001b[49m\u001b[38;5;241;43m-\u001b[39;49m\u001b[38;5;241;43m4\u001b[39;49m\u001b[43m]\u001b[49m)\n",
      "\u001b[1;31mIndexError\u001b[0m: list index out of range"
     ]
    }
   ],
   "source": [
    "print(colors[-4])"
   ]
  },
  {
   "cell_type": "code",
   "execution_count": 15,
   "id": "22960466-cca7-4c9d-9f2f-d4ef97c8296b",
   "metadata": {},
   "outputs": [
    {
     "name": "stdout",
     "output_type": "stream",
     "text": [
      "3\n",
      "4\n"
     ]
    }
   ],
   "source": [
    "data = [1, 2, 3, 4, 5]\n",
    "\n",
    "\n",
    "# get the num 3 from above list\n",
    "print(data[2])\n",
    "print(data[3])"
   ]
  },
  {
   "cell_type": "code",
   "execution_count": null,
   "id": "f0c2819a-1676-442b-b3e1-7c88044351a6",
   "metadata": {},
   "outputs": [],
   "source": [
    "# indexing --> it is process of storing and retriving data with index value from sequence object(list, tuple, string)"
   ]
  },
  {
   "cell_type": "code",
   "execution_count": 18,
   "id": "654c7a84-a0ea-445c-8b01-088ad771dbf3",
   "metadata": {},
   "outputs": [
    {
     "name": "stdout",
     "output_type": "stream",
     "text": [
      "['JJJJ', 2, 3]\n",
      "['JJJJ', 2, 'DDDD']\n",
      "['JJJJ', 2, 'NEw val']\n"
     ]
    }
   ],
   "source": [
    "# write a program to add values to list\n",
    "data = [1, 2, 3]\n",
    "\n",
    "# add new value at 0 index\n",
    "data[0] = \"JJJJ\"\n",
    "\n",
    "print(data)\n",
    "\n",
    "# replace 3 with \"DDDD\"\n",
    "data[2] = 'DDDD'\n",
    "print(data)\n",
    "\n",
    "data[-1] = \"NEw val\"\n",
    "print(data)\n"
   ]
  },
  {
   "cell_type": "code",
   "execution_count": 22,
   "id": "b6111d11-4193-467c-bd18-7513478f7157",
   "metadata": {},
   "outputs": [
    {
     "name": "stdout",
     "output_type": "stream",
     "text": [
      "4\n",
      "4\n",
      "[1, 2, 3, 'New  val']\n"
     ]
    }
   ],
   "source": [
    "# Write a program to update value with + ve index and -ve index\n",
    "\n",
    "data = [1, 2, 3, 4]\n",
    "# +ve index\n",
    "print(data[3])\n",
    "#data[3] = \"new value 4\"\n",
    "\n",
    "# -ve index\n",
    "print(data[-1])\n",
    "data[-1] = \"New  val\"\n",
    "print(data)\n"
   ]
  },
  {
   "cell_type": "code",
   "execution_count": null,
   "id": "65f4fbbb-83b3-4c72-86dc-fd2bcb41f43f",
   "metadata": {},
   "outputs": [],
   "source": [
    "# Note: list is mutable object, can change data once object created in memory\n",
    "# list can store any python object(tuple, str, bool, etc..)"
   ]
  },
  {
   "cell_type": "code",
   "execution_count": 37,
   "id": "1fad3692-9c92-4912-80b1-7222ed3bc9fb",
   "metadata": {},
   "outputs": [
    {
     "name": "stdout",
     "output_type": "stream",
     "text": [
      "[(2, 3), (3, 4), (5, 6)]\n"
     ]
    }
   ],
   "source": [
    "# lets create list of tuples\n",
    "\n",
    "data = [(2, 3), (3, 4), (5, 6)]\n",
    "print(data)"
   ]
  },
  {
   "cell_type": "code",
   "execution_count": 30,
   "id": "56fda7f0-2402-4368-a952-300247e9d6c2",
   "metadata": {},
   "outputs": [
    {
     "name": "stdout",
     "output_type": "stream",
     "text": [
      "(2, 3)\n",
      "(2, 3)\n"
     ]
    }
   ],
   "source": [
    "# access first tuple from list\n",
    "print(data[0])\n",
    "print(data[-3])"
   ]
  },
  {
   "cell_type": "code",
   "execution_count": 36,
   "id": "019bb6a0-e5fc-4394-9dfc-4b8dd785885e",
   "metadata": {},
   "outputs": [
    {
     "name": "stdout",
     "output_type": "stream",
     "text": [
      "3\n"
     ]
    }
   ],
   "source": [
    "out = data[0][1]\n",
    "print(out)"
   ]
  },
  {
   "cell_type": "code",
   "execution_count": 42,
   "id": "58957574-c3af-45b2-b615-a230e7e73cdf",
   "metadata": {},
   "outputs": [
    {
     "name": "stdout",
     "output_type": "stream",
     "text": [
      "3\n"
     ]
    }
   ],
   "source": [
    "out = data[0][-1]\n",
    "print(out)"
   ]
  },
  {
   "cell_type": "code",
   "execution_count": 41,
   "id": "0bab5e01-dd9b-4079-8300-6645b35a092f",
   "metadata": {},
   "outputs": [
    {
     "name": "stdout",
     "output_type": "stream",
     "text": [
      "2\n"
     ]
    }
   ],
   "source": []
  },
  {
   "cell_type": "code",
   "execution_count": null,
   "id": "489f5074-d889-4685-aa87-cb0a5f51113c",
   "metadata": {},
   "outputs": [],
   "source": [
    "# slicing\n",
    "# applying built - in functions on list\n",
    "# list methods"
   ]
  }
 ],
 "metadata": {
  "kernelspec": {
   "display_name": "Python 3 (ipykernel)",
   "language": "python",
   "name": "python3"
  },
  "language_info": {
   "codemirror_mode": {
    "name": "ipython",
    "version": 3
   },
   "file_extension": ".py",
   "mimetype": "text/x-python",
   "name": "python",
   "nbconvert_exporter": "python",
   "pygments_lexer": "ipython3",
   "version": "3.10.4"
  }
 },
 "nbformat": 4,
 "nbformat_minor": 5
}
