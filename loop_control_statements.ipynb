{
 "cells": [
  {
   "cell_type": "code",
   "execution_count": null,
   "id": "6981747e-a43e-4164-8c89-322326166311",
   "metadata": {},
   "outputs": [],
   "source": [
    "# 1) for loop\n",
    "# 2 ) while loop\n",
    "\n",
    "\n",
    "\n",
    "# 1) break --> break is used to terminate/stop the loop and control goes out of for block..\n",
    "# 2) continue --> continue is used to skip the current iteration and start from the next iteration"
   ]
  },
  {
   "cell_type": "code",
   "execution_count": 5,
   "id": "40732c40-df6e-4754-afbf-71e368e15bec",
   "metadata": {},
   "outputs": [
    {
     "name": "stdout",
     "output_type": "stream",
     "text": [
      "1\n",
      "Break statement is executed and loop will terminated\n",
      "out side\n"
     ]
    }
   ],
   "source": [
    "# Example oon break\n",
    "\n",
    "# i want to print only until 50\n",
    "\n",
    "for i in range(1, 300): # i = 1\n",
    "    print(i) # 1\n",
    "    if i == 1: # 1 == 1 ==> True\n",
    "        print(\"Break statement is executed and loop will terminated\")\n",
    "        break\n",
    "\n",
    "print(\"out side\")\n",
    "\n"
   ]
  },
  {
   "cell_type": "code",
   "execution_count": 17,
   "id": "6de0e76a-5699-4713-8043-8343fd344fc8",
   "metadata": {},
   "outputs": [
    {
     "name": "stdout",
     "output_type": "stream",
     "text": [
      "[(0, 'blue'), (1, 'red'), (2, 'yellow'), (3, 'white'), (4, 'blue'), (5, 'purple'), (6, 'orange'), (7, 'light-blue')]\n",
      "***\n",
      "***\n",
      "***\n",
      "3 white\n",
      "Out sude\n"
     ]
    }
   ],
   "source": [
    "# write a program to print index value of 'blue' color\n",
    "\n",
    "colors = ['blue', 'red', 'yellow', 'white', 'blue', 'purple', 'orange', \"light-blue\"]\n",
    "\n",
    "# enumerate() --> is built -in function which takes sequence object and return list of tuples \n",
    "#  with index and associated value\n",
    "\n",
    "print(list(enumerate(colors)))\n",
    "\n",
    "for index, value in enumerate(colors):\n",
    "    if value == 'white':\n",
    "        print(index, value)\n",
    "        break\n",
    "    \n",
    "    print(\"***\")\n",
    "    \n",
    "\n",
    "print(\"Out sude\")\n"
   ]
  },
  {
   "cell_type": "code",
   "execution_count": 23,
   "id": "4e6cf1cb-57cb-4b38-8e49-e578076fa665",
   "metadata": {},
   "outputs": [
    {
     "name": "stdout",
     "output_type": "stream",
     "text": [
      "Ramu\n",
      "Ravi\n",
      "Anu\n",
      "Skipping,  Akhila\n",
      "Skipping,  Mounika\n",
      "JDGGDGDG\n",
      "JJJJ\n"
     ]
    }
   ],
   "source": [
    "# continue statement in python\n",
    "# it just skips the current iteration and start from next iteration\n",
    "\n",
    "names = [\"Ramu\", \"Ravi\", \"Anu\", \"Akhila\", \"Mounika\", \"JDGGDGDG\"]\n",
    "\n",
    "# write a program to print all names except \"Akhila\" and \"Mounika\"\n",
    "\n",
    "for name in names:\n",
    "    if name == 'Akhila' or name == 'Mounika':\n",
    "        print(\"Skipping, \", name)\n",
    "        continue\n",
    "    \n",
    "    print(name)\n",
    "\n",
    "print(\"JJJJ\")\n"
   ]
  },
  {
   "cell_type": "code",
   "execution_count": 30,
   "id": "39c1e440-ab3a-48b3-b95d-0e63910d4fd4",
   "metadata": {},
   "outputs": [
    {
     "name": "stdout",
     "output_type": "stream",
     "text": [
      "0\n",
      "1\n",
      "2\n",
      "3\n",
      "4\n",
      "5\n",
      "6\n",
      "7\n",
      "8\n",
      "9\n",
      "10\n",
      "while loop terminating with break statement\n",
      "out side while\n"
     ]
    }
   ],
   "source": [
    "# while loop\n",
    "\n",
    "# Write a program to stop loop by using break statement in while loop when value reached \n",
    "# 10 and condition become false\n",
    "\n",
    "\n",
    "i = 0\n",
    "end = 20\n",
    "\n",
    "while i <= end:\n",
    "    print(i)\n",
    "    if i == 10:\n",
    "        print(\"while loop terminating with break statement\")\n",
    "        break\n",
    "    \n",
    "    i += 1\n",
    "\n",
    "print(\"out side while\")\n",
    "# Infinate loop!!!!!!!!!!!!!!\n"
   ]
  },
  {
   "cell_type": "code",
   "execution_count": 44,
   "id": "cb2a77e3-9d69-40ac-a7ab-f92dd8b1f0fd",
   "metadata": {},
   "outputs": [
    {
     "name": "stdout",
     "output_type": "stream",
     "text": [
      "2\n",
      "4\n",
      "10\n",
      "12\n",
      "14\n",
      "16\n",
      "18\n",
      "20\n",
      "22\n",
      "24\n",
      "26\n",
      "28\n",
      "30\n"
     ]
    }
   ],
   "source": [
    "# write a program to print all even numbers except even fall between 5 and 9\n",
    "\n",
    "min_val = 5\n",
    "max_val = 9\n",
    "i = 1\n",
    "end = 30\n",
    "while i <= end: # 10 <= 30 --> T\n",
    "    #print(\"KKKKK\")\n",
    "    if i % 2 == 0: # T\n",
    "        if i > min_val and i < max_val: # 10 > 5 and 10 < 9 --> False\n",
    "            #print(\"Expected even number\", i)\n",
    "            i +=1 # it the solution to avoid infinite loop\n",
    "            continue  # it skips the current iteration\n",
    "        print(i)\n",
    "    \n",
    "    i += 1\n"
   ]
  },
  {
   "cell_type": "code",
   "execution_count": null,
   "id": "b9a1dfb0-e7e9-49b3-9639-abf44884e259",
   "metadata": {},
   "outputs": [],
   "source": []
  },
  {
   "cell_type": "code",
   "execution_count": null,
   "id": "a3df8e49-409b-4d02-be38-91d6f97e9347",
   "metadata": {},
   "outputs": [],
   "source": []
  },
  {
   "cell_type": "code",
   "execution_count": null,
   "id": "7f0c125c-a5b0-4676-9937-e6c8c7027058",
   "metadata": {},
   "outputs": [],
   "source": [
    "# Home work\n",
    "\n",
    "# write a program to print below pattern?\n",
    "\n",
    "1\n",
    "22\n",
    "333\n",
    "4444\n",
    "55555\n",
    "666666\n",
    "7777777\n",
    "\n",
    "\n",
    "# write program to print below pattern?\n",
    "\n",
    "*\n",
    "**\n",
    "***\n",
    "****\n",
    "*****\n",
    "\n",
    "\n"
   ]
  }
 ],
 "metadata": {
  "kernelspec": {
   "display_name": "Python 3 (ipykernel)",
   "language": "python",
   "name": "python3"
  },
  "language_info": {
   "codemirror_mode": {
    "name": "ipython",
    "version": 3
   },
   "file_extension": ".py",
   "mimetype": "text/x-python",
   "name": "python",
   "nbconvert_exporter": "python",
   "pygments_lexer": "ipython3",
   "version": "3.10.4"
  }
 },
 "nbformat": 4,
 "nbformat_minor": 5
}
