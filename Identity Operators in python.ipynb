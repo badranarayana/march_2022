{
 "cells": [
  {
   "cell_type": "code",
   "execution_count": 1,
   "id": "9431cb85-7742-4b8d-8296-fbe15e8b9a75",
   "metadata": {},
   "outputs": [
    {
     "name": "stdout",
     "output_type": "stream",
     "text": [
      "True\n"
     ]
    }
   ],
   "source": [
    "# Identity Operators in python\n",
    "\n",
    "a = [1, 2, 3]\n",
    "b = [1, 2, 3]\n",
    "\n",
    "\n",
    "print(a == b)"
   ]
  },
  {
   "cell_type": "code",
   "execution_count": 2,
   "id": "d1c7bc9a-269c-45f0-82c3-ed6d680e4153",
   "metadata": {},
   "outputs": [
    {
     "name": "stdout",
     "output_type": "stream",
     "text": [
      "False\n"
     ]
    }
   ],
   "source": [
    "print(a is b)"
   ]
  },
  {
   "cell_type": "code",
   "execution_count": 4,
   "id": "c70111aa-8f34-499c-b8c7-c5118d74b835",
   "metadata": {},
   "outputs": [
    {
     "name": "stdout",
     "output_type": "stream",
     "text": [
      "True\n"
     ]
    }
   ],
   "source": [
    "a = [1, 2, 3]  #mutable object\n",
    "b = a # only memory reference is copying , not the actual object\n",
    "print(a is b)"
   ]
  },
  {
   "cell_type": "code",
   "execution_count": 7,
   "id": "a220a4d8-62c4-408c-80ac-d9730556790e",
   "metadata": {},
   "outputs": [
    {
     "name": "stdout",
     "output_type": "stream",
     "text": [
      "False\n",
      "True\n",
      "False\n"
     ]
    }
   ],
   "source": [
    "a = [3, 4, 5] # this object stores at xyz\n",
    "b = [3, 4, 5] # this object stores at abc\n",
    "\n",
    "print(a is b)\n",
    "\n",
    "c = a  # it just copies reference of object, it won't create new object in memory\n",
    "print(a is c)\n",
    "\n",
    "print(b is c)\n",
    "\n",
    "\n"
   ]
  },
  {
   "cell_type": "code",
   "execution_count": 13,
   "id": "b4ca4c58-41a4-4375-8fc8-a82889ad87e5",
   "metadata": {},
   "outputs": [
    {
     "name": "stdout",
     "output_type": "stream",
     "text": [
      "True\n"
     ]
    }
   ],
   "source": [
    "# is not\n",
    "\n",
    "a = [3, 4, 5] # stored at abc\n",
    "b = [3, 4, 5] # stored at xyz\n",
    "\n",
    "print(a is not b)"
   ]
  },
  {
   "cell_type": "code",
   "execution_count": 17,
   "id": "d7ad3705-2ada-4743-87a6-ee6987359bdd",
   "metadata": {},
   "outputs": [
    {
     "name": "stdout",
     "output_type": "stream",
     "text": [
      "False\n"
     ]
    }
   ],
   "source": [
    "colors = ['green', 'red', 'yello']\n",
    "colors2 = colors # it just copies the reference \n",
    "print(colors is not colors2)"
   ]
  },
  {
   "cell_type": "code",
   "execution_count": null,
   "id": "e9702d5e-4608-4482-ac8f-689c23243427",
   "metadata": {},
   "outputs": [],
   "source": []
  }
 ],
 "metadata": {
  "kernelspec": {
   "display_name": "Python 3 (ipykernel)",
   "language": "python",
   "name": "python3"
  },
  "language_info": {
   "codemirror_mode": {
    "name": "ipython",
    "version": 3
   },
   "file_extension": ".py",
   "mimetype": "text/x-python",
   "name": "python",
   "nbconvert_exporter": "python",
   "pygments_lexer": "ipython3",
   "version": "3.10.4"
  }
 },
 "nbformat": 4,
 "nbformat_minor": 5
}
