{
 "cells": [
  {
   "cell_type": "code",
   "execution_count": 2,
   "id": "788945c2-1476-46da-9b50-dcd450828aa7",
   "metadata": {},
   "outputs": [
    {
     "data": {
      "text/plain": [
       "'\\nsyntax:\\n\\nif <condition>:\\n    # if block code\\n'"
      ]
     },
     "execution_count": 2,
     "metadata": {},
     "output_type": "execute_result"
    }
   ],
   "source": [
    "# if condition stattement\n",
    "\n",
    "\"\"\"\n",
    "syntax:\n",
    "\n",
    "if <condition>:\n",
    "    # if block code\n",
    "\"\"\""
   ]
  },
  {
   "cell_type": "code",
   "execution_count": 12,
   "id": "8cc0d386-17bc-42c4-af0c-c548a8649993",
   "metadata": {},
   "outputs": [
    {
     "name": "stdout",
     "output_type": "stream",
     "text": [
      "grant visa card\n",
      "granting card and will send through post\n",
      "OUT\n"
     ]
    }
   ],
   "source": [
    "# write a program to print eligible smart card \n",
    "\n",
    "# visa (above 20000)\n",
    "# paypal( above 40000)\n",
    "# amazon card ( above 80,000)\n",
    "\n",
    "income = 20002\n",
    "if income > 20000 and income < 40000: #\n",
    "    print(\"grant visa card\")\n",
    "    print(\"granting card and will send through post\")\n",
    "    print(\"Posted......\")\n",
    "\n",
    "print(\"OUT\")\n",
    "\n"
   ]
  },
  {
   "cell_type": "code",
   "execution_count": null,
   "id": "ee7d4b39-35d1-4d43-88f2-a561be4c3ab1",
   "metadata": {},
   "outputs": [],
   "source": []
  },
  {
   "cell_type": "code",
   "execution_count": null,
   "id": "484f298f-fa0c-462a-be48-6e1bcc66645a",
   "metadata": {},
   "outputs": [],
   "source": []
  }
 ],
 "metadata": {
  "kernelspec": {
   "display_name": "Python 3 (ipykernel)",
   "language": "python",
   "name": "python3"
  },
  "language_info": {
   "codemirror_mode": {
    "name": "ipython",
    "version": 3
   },
   "file_extension": ".py",
   "mimetype": "text/x-python",
   "name": "python",
   "nbconvert_exporter": "python",
   "pygments_lexer": "ipython3",
   "version": "3.10.4"
  }
 },
 "nbformat": 4,
 "nbformat_minor": 5
}
