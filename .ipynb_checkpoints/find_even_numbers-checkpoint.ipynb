{
 "cells": [
  {
   "cell_type": "code",
   "execution_count": 9,
   "id": "1d1e1a49-8ea3-409f-9197-f93a1be2f470",
   "metadata": {
    "tags": []
   },
   "outputs": [
    {
     "name": "stdout",
     "output_type": "stream",
     "text": [
      "Hello\n"
     ]
    }
   ],
   "source": [
    "print(\"Hello\")"
   ]
  },
  {
   "cell_type": "code",
   "execution_count": 10,
   "id": "bfed3215-7c3e-4d90-8ccb-216100e05f87",
   "metadata": {
    "tags": []
   },
   "outputs": [
    {
     "name": "stdout",
     "output_type": "stream",
     "text": [
      "12\n",
      "396\n"
     ]
    }
   ],
   "source": [
    "# lets ass two numbers\n",
    "a = 10\n",
    "b= 2\n",
    "c = a + b\n",
    "print(c)\n",
    "\n",
    "print(c*33)"
   ]
  },
  {
   "cell_type": "code",
   "execution_count": 11,
   "id": "2cd652a5-101d-4fdb-a958-c4d20ebded5a",
   "metadata": {
    "tags": []
   },
   "outputs": [
    {
     "name": "stdout",
     "output_type": "stream",
     "text": [
      "2\n",
      "4\n"
     ]
    }
   ],
   "source": [
    "# write a program to find the eveb number in given list\n",
    "data = [1, 2, 3, 4, 5]\n",
    "for i in data:\n",
    "    if i % 2 == 0:\n",
    "        print(i)"
   ]
  },
  {
   "cell_type": "code",
   "execution_count": 12,
   "id": "eb210437-ec36-4698-968c-2f42ecb28d81",
   "metadata": {
    "slideshow": {
     "slide_type": "slide"
    },
    "tags": []
   },
   "outputs": [
    {
     "name": "stdout",
     "output_type": "stream",
     "text": [
      "1\n",
      "1\n",
      "1\n",
      "1\n"
     ]
    }
   ],
   "source": [
    "# For loop in python\n",
    "\"\"\"\n",
    "for <var_name> in iterable:\n",
    "   <code in for loop block>\n",
    "\n",
    "\n",
    "\n",
    "# while loop\n",
    "------------\n",
    "\n",
    "while condition:\n",
    "   <code in while loop block>\n",
    "\n",
    "\"\"\"\n",
    "\n",
    "\n",
    "\n",
    "data = [1, 2, 3, 4]\n",
    "\n",
    "\n",
    "for i  in data:\n",
    "    print(1)\n"
   ]
  },
  {
   "cell_type": "code",
   "execution_count": null,
   "id": "76aac212-d84d-4410-a8d2-37e6151121e0",
   "metadata": {
    "collapsed": true,
    "jupyter": {
     "outputs_hidden": true
    }
   },
   "outputs": [],
   "source": []
  },
  {
   "cell_type": "code",
   "execution_count": 14,
   "id": "154bf9cb-f7b6-49fc-8c74-20faba2e989a",
   "metadata": {
    "slideshow": {
     "slide_type": "slide"
    },
    "tags": []
   },
   "outputs": [
    {
     "name": "stdout",
     "output_type": "stream",
     "text": [
      "1\n",
      "1\n",
      "1\n",
      "1\n"
     ]
    }
   ],
   "source": [
    "# For loop in python\n",
    "\"\"\"\n",
    "for <var_name> in iterable:\n",
    "   <code in for loop block>\n",
    "\n",
    "\n",
    "\n",
    "# while loop\n",
    "------------\n",
    "\n",
    "while condition:\n",
    "   <code in while loop block>\n",
    "\n",
    "\"\"\"\n",
    "\n",
    "\n",
    "\n",
    "data = [1, 2, 3, 4]\n",
    "\n",
    "\n",
    "for i  in data:\n",
    "    print(1)\n"
   ]
  },
  {
   "cell_type": "code",
   "execution_count": null,
   "id": "12592ef1-da5f-42ba-8830-fbe6b1506934",
   "metadata": {
    "collapsed": true,
    "jupyter": {
     "outputs_hidden": true
    }
   },
   "outputs": [],
   "source": []
  },
  {
   "cell_type": "code",
   "execution_count": null,
   "id": "1bccd667-df84-452e-95a2-6ec50d935692",
   "metadata": {
    "collapsed": true,
    "jupyter": {
     "outputs_hidden": true
    }
   },
   "outputs": [],
   "source": []
  },
  {
   "cell_type": "code",
   "execution_count": null,
   "id": "fc606f06-516c-475f-8bd6-a6af9bbabf4a",
   "metadata": {
    "collapsed": true,
    "jupyter": {
     "outputs_hidden": true
    }
   },
   "outputs": [],
   "source": []
  },
  {
   "cell_type": "code",
   "execution_count": null,
   "id": "501c848f-2ec7-4cf4-9c9c-490c88120cc8",
   "metadata": {
    "collapsed": true,
    "jupyter": {
     "outputs_hidden": true
    }
   },
   "outputs": [],
   "source": []
  },
  {
   "cell_type": "code",
   "execution_count": null,
   "id": "f22945a8-5a64-4685-833e-371c063a4b29",
   "metadata": {
    "collapsed": true,
    "jupyter": {
     "outputs_hidden": true
    }
   },
   "outputs": [],
   "source": []
  },
  {
   "cell_type": "code",
   "execution_count": null,
   "id": "3a65c135-e022-4bbd-a175-a93b6bcf3487",
   "metadata": {
    "collapsed": true,
    "jupyter": {
     "outputs_hidden": true
    }
   },
   "outputs": [],
   "source": []
  },
  {
   "cell_type": "code",
   "execution_count": null,
   "id": "bcdf7c5f-4e99-423b-a171-9ea19406f2f1",
   "metadata": {
    "collapsed": true,
    "jupyter": {
     "outputs_hidden": true
    }
   },
   "outputs": [],
   "source": []
  },
  {
   "cell_type": "code",
   "execution_count": null,
   "id": "49ee85ee-2f3d-4cf8-9298-fe34bce794f4",
   "metadata": {
    "collapsed": true,
    "jupyter": {
     "outputs_hidden": true
    }
   },
   "outputs": [],
   "source": []
  },
  {
   "cell_type": "code",
   "execution_count": null,
   "id": "46c26196-0931-429d-a137-e2ddd66ccacc",
   "metadata": {
    "collapsed": true,
    "jupyter": {
     "outputs_hidden": true
    }
   },
   "outputs": [],
   "source": []
  },
  {
   "cell_type": "code",
   "execution_count": null,
   "id": "0f1f1847-f1c8-4c61-87f3-0f9f41ae54bb",
   "metadata": {
    "collapsed": true,
    "jupyter": {
     "outputs_hidden": true
    }
   },
   "outputs": [],
   "source": []
  }
 ],
 "metadata": {
  "kernelspec": {
   "display_name": "Python 3 (ipykernel)",
   "language": "python",
   "name": "python3"
  },
  "language_info": {
   "codemirror_mode": {
    "name": "ipython",
    "version": 3
   },
   "file_extension": ".py",
   "mimetype": "text/x-python",
   "name": "python",
   "nbconvert_exporter": "python",
   "pygments_lexer": "ipython3",
   "version": "3.10.4"
  }
 },
 "nbformat": 4,
 "nbformat_minor": 5
}
