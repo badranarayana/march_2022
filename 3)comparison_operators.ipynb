{
 "cells": [
  {
   "cell_type": "code",
   "execution_count": 2,
   "id": "33ef140c-bf57-48be-8f14-15fa52cb79e0",
   "metadata": {},
   "outputs": [
    {
     "name": "stdout",
     "output_type": "stream",
     "text": [
      "True\n"
     ]
    }
   ],
   "source": [
    "# comparison operators\n",
    "\n",
    "# check two values are equal or not\n",
    "\n",
    "father_age = 53\n",
    "\n",
    "mother_age = 53\n",
    "\n",
    "print(father_age == mother_age)\n",
    "# every comparison operator returns True or False\n",
    "\n"
   ]
  },
  {
   "cell_type": "code",
   "execution_count": 4,
   "id": "0391ac8d-d661-4d26-b7e9-2dc41516473d",
   "metadata": {},
   "outputs": [
    {
     "name": "stdout",
     "output_type": "stream",
     "text": [
      "Condition satisfied\n"
     ]
    }
   ],
   "source": [
    "# write a program to check given value is equal to 10 or not\n",
    "\n",
    "a = 20\n",
    "\n",
    "if a == 20:\n",
    "    print(\"Condition satisfied\")\n"
   ]
  },
  {
   "cell_type": "code",
   "execution_count": 8,
   "id": "e7ab0552-9021-404e-b83f-94ce804593df",
   "metadata": {},
   "outputs": [
    {
     "name": "stdout",
     "output_type": "stream",
     "text": [
      "Not equal condition statisfied\n"
     ]
    }
   ],
   "source": [
    "# lets do examples on not equal\n",
    "\n",
    "ramesh_salary = 3000\n",
    "akhila_salary = 30001\n",
    "\n",
    "if ramesh_salary != akhila_salary: # True\n",
    "    print(\"Not equal condition statisfied\")\n",
    "\n"
   ]
  },
  {
   "cell_type": "code",
   "execution_count": 10,
   "id": "036e4c72-49c8-4474-80f7-8e5a7c2509cc",
   "metadata": {},
   "outputs": [
    {
     "name": "stdout",
     "output_type": "stream",
     "text": [
      "Apple is getting with lowest price\n"
     ]
    }
   ],
   "source": [
    "# < operator\n",
    "\n",
    "apple_phone_price = 30000\n",
    "mi_phone_price = 34000\n",
    "\n",
    "# write a program to find which phone is getting for lowest price?\n",
    "\n",
    "if apple_phone_price < mi_phone_price: # False\n",
    "    print(\"Apple is getting with lowest price\")\n",
    "\n"
   ]
  },
  {
   "cell_type": "code",
   "execution_count": 15,
   "id": "c2995c5e-2ca9-499f-9534-94d7f94b545e",
   "metadata": {},
   "outputs": [
    {
     "name": "stdout",
     "output_type": "stream",
     "text": [
      "Father is older\n"
     ]
    }
   ],
   "source": [
    "# write a program to find who is older?\n",
    "\n",
    "father_age = 70\n",
    "uncle_age = 60\n",
    "if father_age > uncle_age: # True\n",
    "    print(\"Father is older\")\n",
    "else:\n",
    "    print(\"Uncle is older\")\n"
   ]
  },
  {
   "cell_type": "code",
   "execution_count": 18,
   "id": "fcde7f4c-9f00-45a9-af47-cf69e708770a",
   "metadata": {},
   "outputs": [
    {
     "name": "stdout",
     "output_type": "stream",
     "text": [
      "B is max value\n"
     ]
    }
   ],
   "source": [
    "# write program to find max number of given 3 numbers\n",
    "\n",
    "a = 10\n",
    "b = 200\n",
    "c = 30\n",
    "\n",
    "\n",
    "if a>b and a > c: # False and False = False\n",
    "    print(\"A is max value\")\n",
    "elif b > a and b > c: # True and True = True\n",
    "    print(\"B is max value\")\n",
    "else:\n",
    "    print(\"C is max value\")\n"
   ]
  },
  {
   "cell_type": "code",
   "execution_count": 22,
   "id": "e01270ad-a2d7-42b9-b81a-5b30ad370237",
   "metadata": {},
   "outputs": [
    {
     "name": "stdout",
     "output_type": "stream",
     "text": [
      "He is not eligible for voter ID\n"
     ]
    }
   ],
   "source": [
    "\n",
    "# if given value less than or equal to target value\n",
    "voter_id_age_limit = 17\n",
    "rajesh_age = 17\n",
    "\n",
    "if rajesh_age <= 17:\n",
    "    print(\"He is not eligible for voter ID\")\n",
    "\n"
   ]
  },
  {
   "cell_type": "code",
   "execution_count": 24,
   "id": "6dfd0fa1-5010-4379-a875-6c6ef2a75b20",
   "metadata": {},
   "outputs": [
    {
     "name": "stdout",
     "output_type": "stream",
     "text": [
      "He is eligible for buss pass\n"
     ]
    }
   ],
   "source": [
    "# lets write program in >=\n",
    "\n",
    "bus_pass_age_limit = 18 # or above\n",
    "\n",
    "ravi_age = 18\n",
    "\n",
    "if ravi_age >= bus_pass_age_limit: # True\n",
    "    print(\"He is eligible for buss pass\")\n",
    "else:\n",
    "    print(\"He is not eligible\")\n",
    "\n"
   ]
  },
  {
   "cell_type": "code",
   "execution_count": null,
   "id": "aa3142ff-8e03-4207-866a-025d5cf4491d",
   "metadata": {},
   "outputs": [],
   "source": []
  }
 ],
 "metadata": {
  "kernelspec": {
   "display_name": "Python 3 (ipykernel)",
   "language": "python",
   "name": "python3"
  },
  "language_info": {
   "codemirror_mode": {
    "name": "ipython",
    "version": 3
   },
   "file_extension": ".py",
   "mimetype": "text/x-python",
   "name": "python",
   "nbconvert_exporter": "python",
   "pygments_lexer": "ipython3",
   "version": "3.10.4"
  }
 },
 "nbformat": 4,
 "nbformat_minor": 5
}
