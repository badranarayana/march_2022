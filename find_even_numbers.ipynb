{
 "cells": [
  {
   "cell_type": "code",
   "execution_count": 9,
   "id": "1d1e1a49-8ea3-409f-9197-f93a1be2f470",
   "metadata": {
    "tags": []
   },
   "outputs": [
    {
     "name": "stdout",
     "output_type": "stream",
     "text": [
      "Hello\n"
     ]
    }
   ],
   "source": [
    "print(\"Hello\")"
   ]
  },
  {
   "cell_type": "code",
   "execution_count": 10,
   "id": "bfed3215-7c3e-4d90-8ccb-216100e05f87",
   "metadata": {
    "tags": []
   },
   "outputs": [
    {
     "name": "stdout",
     "output_type": "stream",
     "text": [
      "12\n",
      "396\n"
     ]
    }
   ],
   "source": [
    "# lets ass two numbers\n",
    "a = 10\n",
    "b= 2\n",
    "c = a + b\n",
    "print(c)\n",
    "\n",
    "print(c*33)"
   ]
  },
  {
   "cell_type": "code",
   "execution_count": 11,
   "id": "2cd652a5-101d-4fdb-a958-c4d20ebded5a",
   "metadata": {
    "tags": []
   },
   "outputs": [
    {
     "name": "stdout",
     "output_type": "stream",
     "text": [
      "2\n",
      "4\n"
     ]
    }
   ],
   "source": [
    "# write a program to find the eveb number in given list\n",
    "data = [1, 2, 3, 4, 5]\n",
    "for i in data:\n",
    "    if i % 2 == 0:\n",
    "        print(i)"
   ]
  },
  {
   "cell_type": "code",
   "execution_count": 12,
   "id": "eb210437-ec36-4698-968c-2f42ecb28d81",
   "metadata": {
    "slideshow": {
     "slide_type": "slide"
    },
    "tags": []
   },
   "outputs": [
    {
     "name": "stdout",
     "output_type": "stream",
     "text": [
      "1\n",
      "1\n",
      "1\n",
      "1\n"
     ]
    }
   ],
   "source": [
    "# For loop in python\n",
    "\"\"\"\n",
    "for <var_name> in iterable:\n",
    "   <code in for loop block>\n",
    "\n",
    "\n",
    "\n",
    "# while loop\n",
    "------------\n",
    "\n",
    "while condition:\n",
    "   <code in while loop block>\n",
    "\n",
    "\"\"\"\n",
    "\n",
    "\n",
    "\n",
    "data = [1, 2, 3, 4]\n",
    "\n",
    "\n",
    "for i  in data:\n",
    "    print(1)\n"
   ]
  },
  {
   "cell_type": "code",
   "execution_count": null,
   "id": "76aac212-d84d-4410-a8d2-37e6151121e0",
   "metadata": {
    "collapsed": true,
    "jupyter": {
     "outputs_hidden": true
    }
   },
   "outputs": [],
   "source": []
  },
  {
   "cell_type": "code",
   "execution_count": 14,
   "id": "154bf9cb-f7b6-49fc-8c74-20faba2e989a",
   "metadata": {
    "slideshow": {
     "slide_type": "slide"
    },
    "tags": []
   },
   "outputs": [
    {
     "name": "stdout",
     "output_type": "stream",
     "text": [
      "1\n",
      "1\n",
      "1\n",
      "1\n"
     ]
    }
   ],
   "source": [
    "# For loop in python\n",
    "\"\"\"\n",
    "for <var_name> in iterable:\n",
    "   <code in for loop block>\n",
    "\n",
    "\n",
    "\n",
    "# while loop\n",
    "------------\n",
    "\n",
    "while condition:\n",
    "   <code in while loop block>\n",
    "\n",
    "\"\"\"\n",
    "\n",
    "\n",
    "\n",
    "data = [1, 2, 3, 4]\n",
    "\n",
    "\n",
    "for i  in data:\n",
    "    print(1)\n"
   ]
  },
  {
   "cell_type": "code",
   "execution_count": null,
   "id": "ce18e302-e75a-43b2-82f4-5e53b0e81106",
   "metadata": {},
   "outputs": [],
   "source": [
    "There are different types of operators in Python such as\n",
    "1) Arithmetic operators\n",
    "2) Assignment operators\n",
    "3) Comparison operators\n",
    "4) Logical operators\n",
    "5) Identity operators\n",
    "6) Membership operators\n",
    "7) Bitwise operators\n"
   ]
  }
 ],
 "metadata": {
  "kernelspec": {
   "display_name": "Python 3 (ipykernel)",
   "language": "python",
   "name": "python3"
  },
  "language_info": {
   "codemirror_mode": {
    "name": "ipython",
    "version": 3
   },
   "file_extension": ".py",
   "mimetype": "text/x-python",
   "name": "python",
   "nbconvert_exporter": "python",
   "pygments_lexer": "ipython3",
   "version": "3.10.4"
  }
 },
 "nbformat": 4,
 "nbformat_minor": 5
}
