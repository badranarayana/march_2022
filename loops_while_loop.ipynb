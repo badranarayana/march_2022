{
 "cells": [
  {
   "cell_type": "code",
   "execution_count": null,
   "id": "cd7e6a66-76d8-4ea9-ad2d-8ab80d85279e",
   "metadata": {},
   "outputs": [],
   "source": [
    "# With the while loop we can execute a set of statements as long as a condition is true.\n",
    "\"\"\"\n",
    "while <condition>:\n",
    "    <block of statements>\n",
    "\n",
    "\n",
    "# take care loop stopping at some point\n",
    "\n",
    "\"\"\""
   ]
  },
  {
   "cell_type": "code",
   "execution_count": 10,
   "id": "f77c0817-85be-4585-afc6-1f6737912952",
   "metadata": {},
   "outputs": [
    {
     "name": "stdout",
     "output_type": "stream",
     "text": [
      "1\n",
      "2\n",
      "3\n",
      "4\n",
      "5\n",
      "6\n",
      "7\n",
      "8\n",
      "9\n",
      "10\n",
      "55\n"
     ]
    }
   ],
   "source": [
    "# write a program to sum 1 to 10 number with out using for loop\n",
    "# and without using range\n",
    "i = 1\n",
    "end = 10\n",
    "val = 0 # total\n",
    "\n",
    "# infinite loop\n",
    "while i <= end: # 1 <= 10\n",
    "    print(i)\n",
    "    val += i\n",
    "    i += 1\n",
    "    \n",
    "print(val)"
   ]
  },
  {
   "cell_type": "code",
   "execution_count": 11,
   "id": "277d47f2-fb19-4939-8ba3-1ad378417f49",
   "metadata": {},
   "outputs": [
    {
     "name": "stdout",
     "output_type": "stream",
     "text": [
      "1\n",
      "2\n",
      "3\n",
      "4\n",
      "5\n",
      "66\n",
      "777\n"
     ]
    }
   ],
   "source": [
    "# write a progam to print value in list with out using for loop\n",
    "\n",
    "data = [1, 2, 3, 4, 5, 66, 777]\n",
    "\n",
    "index = 0\n",
    "\n",
    "end_index = len(data) - 1\n",
    "\n",
    "while index <= end_index:\n",
    "    print(data[index])\n",
    "    index += 1\n"
   ]
  },
  {
   "cell_type": "code",
   "execution_count": 15,
   "id": "e508c735-f789-41bc-8b69-f7f36bedd688",
   "metadata": {},
   "outputs": [
    {
     "name": "stdout",
     "output_type": "stream",
     "text": [
      "Even number 6\n",
      "Even number 8\n",
      "Even number 12\n",
      "Even number 14\n"
     ]
    }
   ],
   "source": [
    "# write a porgam to find even number by using while loop\n",
    "\n",
    "data = [55, 6, 8, 9, 12, 14]\n",
    "#       0   1  2  3   4  5\n",
    "\n",
    "index = 1\n",
    "\n",
    "end_index = len(data) - 1 # 6 - 1 = 5\n",
    "\n",
    "while index <= end_index:\n",
    "    val = data[index]\n",
    "    if val % 2 == 0:\n",
    "        print(\"Even number\", val)\n",
    "    \n",
    "    index += 1\n"
   ]
  },
  {
   "cell_type": "code",
   "execution_count": 34,
   "id": "dfdedddd-26c2-4669-a147-9ed074f2f894",
   "metadata": {},
   "outputs": [
    {
     "name": "stdout",
     "output_type": "stream",
     "text": [
      "d\n",
      "-2\n",
      "b\n",
      "-3\n",
      "a\n",
      "-4\n",
      "r\n",
      "-5\n",
      "e\n",
      "-6\n",
      "d\n",
      "-7\n",
      "y\n",
      "-8\n",
      "H\n",
      "-9\n"
     ]
    }
   ],
   "source": [
    "# string\n",
    "# write a program to read string in reverse order\n",
    "\n",
    "location = \"Hyderabd\"\n",
    "\n",
    "#d\n",
    "#a\n",
    "#b\n",
    "\n",
    "start_index = len(location) - 1 # 8\n",
    "end_index = 0\n",
    "\n",
    "while end_index <= len(data): # -1 <= 6\n",
    "    if end_index == -len(location) -1:\n",
    "        break\n",
    "    if end_index == 0:\n",
    "        end_index -= 1\n",
    "        continue\n",
    "    val = location[end_index] # 7 # -index\n",
    "    print(val)\n",
    "    end_index -= 1\n",
    "    print(end_index)\n"
   ]
  },
  {
   "cell_type": "code",
   "execution_count": null,
   "id": "7753cde3-30b1-47d5-a506-2ba0bc7e0b28",
   "metadata": {},
   "outputs": [],
   "source": []
  }
 ],
 "metadata": {
  "kernelspec": {
   "display_name": "Python 3 (ipykernel)",
   "language": "python",
   "name": "python3"
  },
  "language_info": {
   "codemirror_mode": {
    "name": "ipython",
    "version": 3
   },
   "file_extension": ".py",
   "mimetype": "text/x-python",
   "name": "python",
   "nbconvert_exporter": "python",
   "pygments_lexer": "ipython3",
   "version": "3.10.4"
  }
 },
 "nbformat": 4,
 "nbformat_minor": 5
}
