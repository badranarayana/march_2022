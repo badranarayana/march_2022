{
 "cells": [
  {
   "cell_type": "code",
   "execution_count": null,
   "id": "23545b73-5f17-418a-9b37-9082f51b3618",
   "metadata": {},
   "outputs": [],
   "source": [
    "# Assignment Operators\n",
    "\n",
    "# 1) =\n",
    "# 2) +=\n",
    "# 3) -=\n",
    "\n"
   ]
  },
  {
   "cell_type": "code",
   "execution_count": null,
   "id": "5fcd7643-6a4f-4184-81eb-fa067e0db57c",
   "metadata": {},
   "outputs": [],
   "source": [
    "# lets work on = operators\n",
    "# what is the use equal operators\n",
    "# ans: it is used to assign values to variables(assignment operator)\n",
    "\n",
    "# lets do some examples on it\n",
    "\n",
    "location = \"Hyderabad\"\n",
    "price = 320\n",
    "qty = 40\n",
    "total_price = price * qty\n",
    "\n",
    "\n",
    "# == is for comparing values, but = is for assignment.\n",
    "\n"
   ]
  },
  {
   "cell_type": "code",
   "execution_count": 10,
   "id": "8c2228b8-dbe0-4b39-94bd-21433ab60832",
   "metadata": {},
   "outputs": [
    {
     "name": "stdout",
     "output_type": "stream",
     "text": [
      "13\n",
      "50\n",
      "70\n"
     ]
    }
   ],
   "source": [
    "# += operator\n",
    "# + addition\n",
    "# = assignment\n",
    "# += add and assign\n",
    "\n",
    "a = 10\n",
    "\n",
    "# add 3 to this variable a\n",
    "a = a + 3  # 10 + 3\n",
    "print(a)\n",
    "\n",
    "# lets do the same operator with += operator\n",
    "\n",
    "b = 30\n",
    "\n",
    "b += 20\n",
    "\n",
    "print(b)\n",
    "\n",
    "\n",
    "c = 30\n",
    "\n",
    "d = c + 40\n",
    "print(d)\n"
   ]
  },
  {
   "cell_type": "code",
   "execution_count": 12,
   "id": "2655cfe8-ccb2-4dce-b632-ad41ddbe6012",
   "metadata": {},
   "outputs": [
    {
     "name": "stdout",
     "output_type": "stream",
     "text": [
      "3500\n"
     ]
    }
   ],
   "source": [
    "# -=\n",
    "# - substraction\n",
    "# = assignment\n",
    "\n",
    "salary = 4000\n",
    "\n",
    "# lets descrese salary\n",
    "dec_value = 500\n",
    "\n",
    "salary -= dec_value\n",
    "print(salary)\n",
    "\n"
   ]
  },
  {
   "cell_type": "code",
   "execution_count": 18,
   "id": "a4afda9b-6751-4c77-a433-6499a4c2f19b",
   "metadata": {},
   "outputs": [
    {
     "name": "stdout",
     "output_type": "stream",
     "text": [
      "800\n",
      "-400.0\n",
      "-400.0\n"
     ]
    }
   ],
   "source": [
    "# *= \n",
    "price = 200\n",
    "\n",
    "# lets increate the price with product of 2\n",
    "\n",
    "# approach #1\n",
    "price = price * 2 # 400\n",
    "\n",
    "\n",
    "# *=\n",
    "price *= 2 # 400 * 2\n",
    "print(price)\n",
    "\n",
    "\n",
    "price *=  - 0.5\n",
    "\n",
    "print(price)\n",
    "\n",
    "\n",
    "\n",
    "\n",
    "\n",
    "\n",
    "\n"
   ]
  },
  {
   "cell_type": "code",
   "execution_count": 20,
   "id": "fc02256d-4bee-45fe-8f85-b2a7e0739c1f",
   "metadata": {},
   "outputs": [
    {
     "name": "stdout",
     "output_type": "stream",
     "text": [
      "2500.0\n"
     ]
    }
   ],
   "source": [
    "# /=\n",
    "\n",
    "party_amount = 5000\n",
    "\n",
    "dicount_amount = 2  # 50% discount\n",
    "\n",
    "party_amount /= dicount_amount\n",
    "# party_amount = party_amount / dicount_amount\n",
    "\n",
    "print(party_amount)\n"
   ]
  },
  {
   "cell_type": "code",
   "execution_count": 21,
   "id": "1262df4d-22ed-45d8-b359-9ccd1a717e82",
   "metadata": {},
   "outputs": [
    {
     "name": "stdout",
     "output_type": "stream",
     "text": [
      "16\n"
     ]
    }
   ],
   "source": [
    "# **=\n",
    "\n",
    "value = 2\n",
    "\n",
    "power_value = 4\n",
    "\n",
    "value **= power_value\n",
    "print(value)"
   ]
  },
  {
   "cell_type": "code",
   "execution_count": 23,
   "id": "7ad31eb5-2a87-458f-8fa0-cb23c5ec288e",
   "metadata": {},
   "outputs": [
    {
     "name": "stdout",
     "output_type": "stream",
     "text": [
      "0\n"
     ]
    }
   ],
   "source": [
    "x = 2\n",
    "\n",
    "x &= 2\n",
    "\n",
    "x &= 4\n",
    "print(x)"
   ]
  },
  {
   "cell_type": "code",
   "execution_count": null,
   "id": "88ae4dbc-8afe-42dd-8f2a-048393bf5b8c",
   "metadata": {},
   "outputs": [],
   "source": []
  }
 ],
 "metadata": {
  "kernelspec": {
   "display_name": "Python 3 (ipykernel)",
   "language": "python",
   "name": "python3"
  },
  "language_info": {
   "codemirror_mode": {
    "name": "ipython",
    "version": 3
   },
   "file_extension": ".py",
   "mimetype": "text/x-python",
   "name": "python",
   "nbconvert_exporter": "python",
   "pygments_lexer": "ipython3",
   "version": "3.10.4"
  }
 },
 "nbformat": 4,
 "nbformat_minor": 5
}
