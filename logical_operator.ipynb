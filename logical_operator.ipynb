{
 "cells": [
  {
   "cell_type": "code",
   "execution_count": 3,
   "id": "7560ada9-6acc-4bfc-adde-a10d3598b9bb",
   "metadata": {},
   "outputs": [
    {
     "name": "stdout",
     "output_type": "stream",
     "text": [
      "A and b are greater than 40\n"
     ]
    }
   ],
   "source": [
    "# logical opertaors in python\n",
    "\n",
    "# 1) and\n",
    "# 2) or\n",
    "# 3) not\n",
    "\n",
    "\n",
    "# generally we need to use logical operators when ever want to do multiple checks in single expression\n",
    "\n",
    "a = 50\n",
    "b = 55\n",
    "\n",
    "# a and b is greater than 40\n",
    "\n",
    "if a > 40 and b > 40: # True and True ==> True\n",
    "    print(\"A and b are greater than 40\")\n",
    "\n"
   ]
  },
  {
   "cell_type": "code",
   "execution_count": 6,
   "id": "cacd7cd2-c995-465c-953c-1459a7a281c9",
   "metadata": {},
   "outputs": [
    {
     "name": "stdout",
     "output_type": "stream",
     "text": [
      "Customer is eligible for this festive discount\n"
     ]
    }
   ],
   "source": [
    "# write program to check his phone number eligle for discount\n",
    "# condition : 9011032453\n",
    "# his name first char should starts with \"A\"\n",
    "mobile_number = 9010326372\n",
    "customer_name = \"akhila\"\n",
    "\n",
    "if mobile_number and customer_name[0].upper() == \"A\": # True and False ==> False\n",
    "    print(\"Customer is eligible for this festive discount\")\n",
    "\n"
   ]
  },
  {
   "cell_type": "code",
   "execution_count": 9,
   "id": "4b8d41f9-71aa-4cc0-97ad-08f33f746ab8",
   "metadata": {},
   "outputs": [
    {
     "name": "stdout",
     "output_type": "stream",
     "text": [
      "Condition satisfied\n"
     ]
    }
   ],
   "source": [
    "# or operators\n",
    "\n",
    "a = 50\n",
    "b = 20\n",
    "\n",
    "if a > 30 or a == b: # True --> True\n",
    "    print(\"Condition satisfied\")\n"
   ]
  },
  {
   "cell_type": "code",
   "execution_count": 13,
   "id": "c768b2f0-c27f-4dd9-aa35-a46aa45d30ab",
   "metadata": {},
   "outputs": [],
   "source": [
    "# not operator\n",
    "\n",
    "age = 77\n",
    "\n",
    "# 0, '', None\n",
    "\n",
    "if not age: # False\n",
    "    print(\"Age is empty\")\n",
    "\n"
   ]
  },
  {
   "cell_type": "code",
   "execution_count": 18,
   "id": "5c9e340f-93a0-46bf-9c99-8a7bb23578a6",
   "metadata": {},
   "outputs": [],
   "source": [
    "# we need to check age field conatin valid data or not\n",
    "\n",
    "age = 55\n",
    "\n",
    "if not age:  # False --> 0, True --> 1\n",
    "    print(\"age is not valid\")\n",
    "\n"
   ]
  },
  {
   "cell_type": "code",
   "execution_count": 21,
   "id": "763fc6b1-2128-4819-b063-8385bb288ba2",
   "metadata": {},
   "outputs": [],
   "source": [
    "\n",
    "\n",
    "# write a program to check age is less than 10 or not with 'not' operator\n",
    "\n",
    "\n",
    "age = 9\n",
    "\n",
    "if  not age < 10: # 9 < 10 --> True\n",
    "    print(\"inside body\")\n",
    "    "
   ]
  },
  {
   "cell_type": "code",
   "execution_count": 22,
   "id": "085f9b68-05da-4cb9-b9c8-3f72445c6e5a",
   "metadata": {},
   "outputs": [
    {
     "name": "stdout",
     "output_type": "stream",
     "text": [
      "True\n"
     ]
    }
   ],
   "source": [
    "# what are the logical operators in python?\n",
    "# 1) and\n",
    "# 2) or\n",
    "# 3) not\n",
    "\n",
    "\n",
    "\n",
    "# what is the out put of this below condition?\n",
    "print(2 > 1 and 3 < 5)"
   ]
  },
  {
   "cell_type": "code",
   "execution_count": 29,
   "id": "286d4fce-b07e-4efc-a5d0-18b49bebb5e6",
   "metadata": {},
   "outputs": [
    {
     "name": "stdout",
     "output_type": "stream",
     "text": [
      "True\n"
     ]
    }
   ],
   "source": [
    "# what is the optput of below expression\n",
    "print(not 0 and not 3 > 5)"
   ]
  },
  {
   "cell_type": "code",
   "execution_count": 42,
   "id": "334ce125-07e0-4bf4-bb44-7e2914c7b8f6",
   "metadata": {},
   "outputs": [
    {
     "name": "stdout",
     "output_type": "stream",
     "text": [
      "10\n"
     ]
    }
   ],
   "source": [
    "\n",
    "# what is the output of below expression?\n",
    "print('' or 10) # False or False"
   ]
  },
  {
   "cell_type": "code",
   "execution_count": null,
   "id": "b0356795-ea26-43d2-aaa5-202cbda26976",
   "metadata": {},
   "outputs": [],
   "source": []
  }
 ],
 "metadata": {
  "kernelspec": {
   "display_name": "Python 3 (ipykernel)",
   "language": "python",
   "name": "python3"
  },
  "language_info": {
   "codemirror_mode": {
    "name": "ipython",
    "version": 3
   },
   "file_extension": ".py",
   "mimetype": "text/x-python",
   "name": "python",
   "nbconvert_exporter": "python",
   "pygments_lexer": "ipython3",
   "version": "3.10.4"
  }
 },
 "nbformat": 4,
 "nbformat_minor": 5
}
